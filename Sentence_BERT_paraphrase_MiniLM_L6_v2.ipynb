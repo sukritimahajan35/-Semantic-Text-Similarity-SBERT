{
  "cells": [
    {
      "cell_type": "markdown",
      "metadata": {
        "id": "view-in-github",
        "colab_type": "text"
      },
      "source": [
        "<a href=\"https://colab.research.google.com/github/sukritimahajan35/Semantic-Text-Similarity-SBERT/blob/main/Sentence_BERT_paraphrase_MiniLM_L6_v2.ipynb\" target=\"_parent\"><img src=\"https://colab.research.google.com/assets/colab-badge.svg\" alt=\"Open In Colab\"/></a>"
      ]
    },
    {
      "cell_type": "markdown",
      "metadata": {
        "id": "7uOGACLgZblx"
      },
      "source": [
        "Install Required Libraries"
      ]
    },
    {
      "cell_type": "code",
      "execution_count": 9,
      "metadata": {
        "colab": {
          "base_uri": "https://localhost:8080/"
        },
        "id": "iPhVtH6_ZN8F",
        "outputId": "b6fb64dd-e3fc-426b-e4a5-6cee7ca211fa"
      },
      "outputs": [
        {
          "output_type": "stream",
          "name": "stdout",
          "text": [
            "Requirement already satisfied: papermill in /usr/local/lib/python3.11/dist-packages (2.6.0)\n",
            "Requirement already satisfied: click in /usr/local/lib/python3.11/dist-packages (from papermill) (8.1.8)\n",
            "Requirement already satisfied: pyyaml in /usr/local/lib/python3.11/dist-packages (from papermill) (6.0.2)\n",
            "Requirement already satisfied: nbformat>=5.2.0 in /usr/local/lib/python3.11/dist-packages (from papermill) (5.10.4)\n",
            "Requirement already satisfied: nbclient>=0.2.0 in /usr/local/lib/python3.11/dist-packages (from papermill) (0.10.2)\n",
            "Requirement already satisfied: tqdm>=4.32.2 in /usr/local/lib/python3.11/dist-packages (from papermill) (4.67.1)\n",
            "Requirement already satisfied: requests in /usr/local/lib/python3.11/dist-packages (from papermill) (2.32.3)\n",
            "Requirement already satisfied: entrypoints in /usr/local/lib/python3.11/dist-packages (from papermill) (0.4)\n",
            "Requirement already satisfied: tenacity>=5.0.2 in /usr/local/lib/python3.11/dist-packages (from papermill) (9.0.0)\n",
            "Requirement already satisfied: ansicolors in /usr/local/lib/python3.11/dist-packages (from papermill) (1.1.8)\n",
            "Requirement already satisfied: jupyter-client>=6.1.12 in /usr/local/lib/python3.11/dist-packages (from nbclient>=0.2.0->papermill) (6.1.12)\n",
            "Requirement already satisfied: jupyter-core!=5.0.*,>=4.12 in /usr/local/lib/python3.11/dist-packages (from nbclient>=0.2.0->papermill) (5.7.2)\n",
            "Requirement already satisfied: traitlets>=5.4 in /usr/local/lib/python3.11/dist-packages (from nbclient>=0.2.0->papermill) (5.7.1)\n",
            "Requirement already satisfied: fastjsonschema>=2.15 in /usr/local/lib/python3.11/dist-packages (from nbformat>=5.2.0->papermill) (2.21.1)\n",
            "Requirement already satisfied: jsonschema>=2.6 in /usr/local/lib/python3.11/dist-packages (from nbformat>=5.2.0->papermill) (4.23.0)\n",
            "Requirement already satisfied: charset-normalizer<4,>=2 in /usr/local/lib/python3.11/dist-packages (from requests->papermill) (3.4.1)\n",
            "Requirement already satisfied: idna<4,>=2.5 in /usr/local/lib/python3.11/dist-packages (from requests->papermill) (3.10)\n",
            "Requirement already satisfied: urllib3<3,>=1.21.1 in /usr/local/lib/python3.11/dist-packages (from requests->papermill) (2.3.0)\n",
            "Requirement already satisfied: certifi>=2017.4.17 in /usr/local/lib/python3.11/dist-packages (from requests->papermill) (2024.12.14)\n",
            "Requirement already satisfied: attrs>=22.2.0 in /usr/local/lib/python3.11/dist-packages (from jsonschema>=2.6->nbformat>=5.2.0->papermill) (25.1.0)\n",
            "Requirement already satisfied: jsonschema-specifications>=2023.03.6 in /usr/local/lib/python3.11/dist-packages (from jsonschema>=2.6->nbformat>=5.2.0->papermill) (2024.10.1)\n",
            "Requirement already satisfied: referencing>=0.28.4 in /usr/local/lib/python3.11/dist-packages (from jsonschema>=2.6->nbformat>=5.2.0->papermill) (0.36.2)\n",
            "Requirement already satisfied: rpds-py>=0.7.1 in /usr/local/lib/python3.11/dist-packages (from jsonschema>=2.6->nbformat>=5.2.0->papermill) (0.22.3)\n",
            "Requirement already satisfied: pyzmq>=13 in /usr/local/lib/python3.11/dist-packages (from jupyter-client>=6.1.12->nbclient>=0.2.0->papermill) (24.0.1)\n",
            "Requirement already satisfied: python-dateutil>=2.1 in /usr/local/lib/python3.11/dist-packages (from jupyter-client>=6.1.12->nbclient>=0.2.0->papermill) (2.8.2)\n",
            "Requirement already satisfied: tornado>=4.1 in /usr/local/lib/python3.11/dist-packages (from jupyter-client>=6.1.12->nbclient>=0.2.0->papermill) (6.4.2)\n",
            "Requirement already satisfied: platformdirs>=2.5 in /usr/local/lib/python3.11/dist-packages (from jupyter-core!=5.0.*,>=4.12->nbclient>=0.2.0->papermill) (4.3.6)\n",
            "Requirement already satisfied: six>=1.5 in /usr/local/lib/python3.11/dist-packages (from python-dateutil>=2.1->jupyter-client>=6.1.12->nbclient>=0.2.0->papermill) (1.17.0)\n",
            "Requirement already satisfied: typing-extensions>=4.4.0 in /usr/local/lib/python3.11/dist-packages (from referencing>=0.28.4->jsonschema>=2.6->nbformat>=5.2.0->papermill) (4.12.2)\n",
            "Requirement already satisfied: datasets in /usr/local/lib/python3.11/dist-packages (3.2.0)\n",
            "Requirement already satisfied: sentence-transformers in /usr/local/lib/python3.11/dist-packages (3.3.1)\n",
            "Requirement already satisfied: filelock in /usr/local/lib/python3.11/dist-packages (from datasets) (3.17.0)\n",
            "Requirement already satisfied: numpy>=1.17 in /usr/local/lib/python3.11/dist-packages (from datasets) (1.26.4)\n",
            "Requirement already satisfied: pyarrow>=15.0.0 in /usr/local/lib/python3.11/dist-packages (from datasets) (17.0.0)\n",
            "Requirement already satisfied: dill<0.3.9,>=0.3.0 in /usr/local/lib/python3.11/dist-packages (from datasets) (0.3.8)\n",
            "Requirement already satisfied: pandas in /usr/local/lib/python3.11/dist-packages (from datasets) (2.2.2)\n",
            "Requirement already satisfied: requests>=2.32.2 in /usr/local/lib/python3.11/dist-packages (from datasets) (2.32.3)\n",
            "Requirement already satisfied: tqdm>=4.66.3 in /usr/local/lib/python3.11/dist-packages (from datasets) (4.67.1)\n",
            "Requirement already satisfied: xxhash in /usr/local/lib/python3.11/dist-packages (from datasets) (3.5.0)\n",
            "Requirement already satisfied: multiprocess<0.70.17 in /usr/local/lib/python3.11/dist-packages (from datasets) (0.70.16)\n",
            "Requirement already satisfied: fsspec<=2024.9.0,>=2023.1.0 in /usr/local/lib/python3.11/dist-packages (from fsspec[http]<=2024.9.0,>=2023.1.0->datasets) (2024.9.0)\n",
            "Requirement already satisfied: aiohttp in /usr/local/lib/python3.11/dist-packages (from datasets) (3.11.11)\n",
            "Requirement already satisfied: huggingface-hub>=0.23.0 in /usr/local/lib/python3.11/dist-packages (from datasets) (0.27.1)\n",
            "Requirement already satisfied: packaging in /usr/local/lib/python3.11/dist-packages (from datasets) (24.2)\n",
            "Requirement already satisfied: pyyaml>=5.1 in /usr/local/lib/python3.11/dist-packages (from datasets) (6.0.2)\n",
            "Requirement already satisfied: transformers<5.0.0,>=4.41.0 in /usr/local/lib/python3.11/dist-packages (from sentence-transformers) (4.47.1)\n",
            "Requirement already satisfied: torch>=1.11.0 in /usr/local/lib/python3.11/dist-packages (from sentence-transformers) (2.5.1+cu124)\n",
            "Requirement already satisfied: scikit-learn in /usr/local/lib/python3.11/dist-packages (from sentence-transformers) (1.6.1)\n",
            "Requirement already satisfied: scipy in /usr/local/lib/python3.11/dist-packages (from sentence-transformers) (1.13.1)\n",
            "Requirement already satisfied: Pillow in /usr/local/lib/python3.11/dist-packages (from sentence-transformers) (11.1.0)\n",
            "Requirement already satisfied: aiohappyeyeballs>=2.3.0 in /usr/local/lib/python3.11/dist-packages (from aiohttp->datasets) (2.4.4)\n",
            "Requirement already satisfied: aiosignal>=1.1.2 in /usr/local/lib/python3.11/dist-packages (from aiohttp->datasets) (1.3.2)\n",
            "Requirement already satisfied: attrs>=17.3.0 in /usr/local/lib/python3.11/dist-packages (from aiohttp->datasets) (25.1.0)\n",
            "Requirement already satisfied: frozenlist>=1.1.1 in /usr/local/lib/python3.11/dist-packages (from aiohttp->datasets) (1.5.0)\n",
            "Requirement already satisfied: multidict<7.0,>=4.5 in /usr/local/lib/python3.11/dist-packages (from aiohttp->datasets) (6.1.0)\n",
            "Requirement already satisfied: propcache>=0.2.0 in /usr/local/lib/python3.11/dist-packages (from aiohttp->datasets) (0.2.1)\n",
            "Requirement already satisfied: yarl<2.0,>=1.17.0 in /usr/local/lib/python3.11/dist-packages (from aiohttp->datasets) (1.18.3)\n",
            "Requirement already satisfied: typing-extensions>=3.7.4.3 in /usr/local/lib/python3.11/dist-packages (from huggingface-hub>=0.23.0->datasets) (4.12.2)\n",
            "Requirement already satisfied: charset-normalizer<4,>=2 in /usr/local/lib/python3.11/dist-packages (from requests>=2.32.2->datasets) (3.4.1)\n",
            "Requirement already satisfied: idna<4,>=2.5 in /usr/local/lib/python3.11/dist-packages (from requests>=2.32.2->datasets) (3.10)\n",
            "Requirement already satisfied: urllib3<3,>=1.21.1 in /usr/local/lib/python3.11/dist-packages (from requests>=2.32.2->datasets) (2.3.0)\n",
            "Requirement already satisfied: certifi>=2017.4.17 in /usr/local/lib/python3.11/dist-packages (from requests>=2.32.2->datasets) (2024.12.14)\n",
            "Requirement already satisfied: networkx in /usr/local/lib/python3.11/dist-packages (from torch>=1.11.0->sentence-transformers) (3.4.2)\n",
            "Requirement already satisfied: jinja2 in /usr/local/lib/python3.11/dist-packages (from torch>=1.11.0->sentence-transformers) (3.1.5)\n",
            "Requirement already satisfied: nvidia-cuda-nvrtc-cu12==12.4.127 in /usr/local/lib/python3.11/dist-packages (from torch>=1.11.0->sentence-transformers) (12.4.127)\n",
            "Requirement already satisfied: nvidia-cuda-runtime-cu12==12.4.127 in /usr/local/lib/python3.11/dist-packages (from torch>=1.11.0->sentence-transformers) (12.4.127)\n",
            "Requirement already satisfied: nvidia-cuda-cupti-cu12==12.4.127 in /usr/local/lib/python3.11/dist-packages (from torch>=1.11.0->sentence-transformers) (12.4.127)\n",
            "Requirement already satisfied: nvidia-cudnn-cu12==9.1.0.70 in /usr/local/lib/python3.11/dist-packages (from torch>=1.11.0->sentence-transformers) (9.1.0.70)\n",
            "Requirement already satisfied: nvidia-cublas-cu12==12.4.5.8 in /usr/local/lib/python3.11/dist-packages (from torch>=1.11.0->sentence-transformers) (12.4.5.8)\n",
            "Requirement already satisfied: nvidia-cufft-cu12==11.2.1.3 in /usr/local/lib/python3.11/dist-packages (from torch>=1.11.0->sentence-transformers) (11.2.1.3)\n",
            "Requirement already satisfied: nvidia-curand-cu12==10.3.5.147 in /usr/local/lib/python3.11/dist-packages (from torch>=1.11.0->sentence-transformers) (10.3.5.147)\n",
            "Requirement already satisfied: nvidia-cusolver-cu12==11.6.1.9 in /usr/local/lib/python3.11/dist-packages (from torch>=1.11.0->sentence-transformers) (11.6.1.9)\n",
            "Requirement already satisfied: nvidia-cusparse-cu12==12.3.1.170 in /usr/local/lib/python3.11/dist-packages (from torch>=1.11.0->sentence-transformers) (12.3.1.170)\n",
            "Requirement already satisfied: nvidia-nccl-cu12==2.21.5 in /usr/local/lib/python3.11/dist-packages (from torch>=1.11.0->sentence-transformers) (2.21.5)\n",
            "Requirement already satisfied: nvidia-nvtx-cu12==12.4.127 in /usr/local/lib/python3.11/dist-packages (from torch>=1.11.0->sentence-transformers) (12.4.127)\n",
            "Requirement already satisfied: nvidia-nvjitlink-cu12==12.4.127 in /usr/local/lib/python3.11/dist-packages (from torch>=1.11.0->sentence-transformers) (12.4.127)\n",
            "Requirement already satisfied: triton==3.1.0 in /usr/local/lib/python3.11/dist-packages (from torch>=1.11.0->sentence-transformers) (3.1.0)\n",
            "Requirement already satisfied: sympy==1.13.1 in /usr/local/lib/python3.11/dist-packages (from torch>=1.11.0->sentence-transformers) (1.13.1)\n",
            "Requirement already satisfied: mpmath<1.4,>=1.1.0 in /usr/local/lib/python3.11/dist-packages (from sympy==1.13.1->torch>=1.11.0->sentence-transformers) (1.3.0)\n",
            "Requirement already satisfied: regex!=2019.12.17 in /usr/local/lib/python3.11/dist-packages (from transformers<5.0.0,>=4.41.0->sentence-transformers) (2024.11.6)\n",
            "Requirement already satisfied: tokenizers<0.22,>=0.21 in /usr/local/lib/python3.11/dist-packages (from transformers<5.0.0,>=4.41.0->sentence-transformers) (0.21.0)\n",
            "Requirement already satisfied: safetensors>=0.4.1 in /usr/local/lib/python3.11/dist-packages (from transformers<5.0.0,>=4.41.0->sentence-transformers) (0.5.2)\n",
            "Requirement already satisfied: python-dateutil>=2.8.2 in /usr/local/lib/python3.11/dist-packages (from pandas->datasets) (2.8.2)\n",
            "Requirement already satisfied: pytz>=2020.1 in /usr/local/lib/python3.11/dist-packages (from pandas->datasets) (2024.2)\n",
            "Requirement already satisfied: tzdata>=2022.7 in /usr/local/lib/python3.11/dist-packages (from pandas->datasets) (2025.1)\n",
            "Requirement already satisfied: joblib>=1.2.0 in /usr/local/lib/python3.11/dist-packages (from scikit-learn->sentence-transformers) (1.4.2)\n",
            "Requirement already satisfied: threadpoolctl>=3.1.0 in /usr/local/lib/python3.11/dist-packages (from scikit-learn->sentence-transformers) (3.5.0)\n",
            "Requirement already satisfied: six>=1.5 in /usr/local/lib/python3.11/dist-packages (from python-dateutil>=2.8.2->pandas->datasets) (1.17.0)\n",
            "Requirement already satisfied: MarkupSafe>=2.0 in /usr/local/lib/python3.11/dist-packages (from jinja2->torch>=1.11.0->sentence-transformers) (3.0.2)\n",
            "Requirement already satisfied: xgboost in /usr/local/lib/python3.11/dist-packages (2.1.3)\n",
            "Requirement already satisfied: numpy in /usr/local/lib/python3.11/dist-packages (from xgboost) (1.26.4)\n",
            "Requirement already satisfied: nvidia-nccl-cu12 in /usr/local/lib/python3.11/dist-packages (from xgboost) (2.21.5)\n",
            "Requirement already satisfied: scipy in /usr/local/lib/python3.11/dist-packages (from xgboost) (1.13.1)\n",
            "Requirement already satisfied: scikit-learn in /usr/local/lib/python3.11/dist-packages (1.6.1)\n",
            "Requirement already satisfied: numpy>=1.19.5 in /usr/local/lib/python3.11/dist-packages (from scikit-learn) (1.26.4)\n",
            "Requirement already satisfied: scipy>=1.6.0 in /usr/local/lib/python3.11/dist-packages (from scikit-learn) (1.13.1)\n",
            "Requirement already satisfied: joblib>=1.2.0 in /usr/local/lib/python3.11/dist-packages (from scikit-learn) (1.4.2)\n",
            "Requirement already satisfied: threadpoolctl>=3.1.0 in /usr/local/lib/python3.11/dist-packages (from scikit-learn) (3.5.0)\n",
            "Requirement already satisfied: matplotlib in /usr/local/lib/python3.11/dist-packages (3.10.0)\n",
            "Requirement already satisfied: seaborn in /usr/local/lib/python3.11/dist-packages (0.13.2)\n",
            "Requirement already satisfied: contourpy>=1.0.1 in /usr/local/lib/python3.11/dist-packages (from matplotlib) (1.3.1)\n",
            "Requirement already satisfied: cycler>=0.10 in /usr/local/lib/python3.11/dist-packages (from matplotlib) (0.12.1)\n",
            "Requirement already satisfied: fonttools>=4.22.0 in /usr/local/lib/python3.11/dist-packages (from matplotlib) (4.55.7)\n",
            "Requirement already satisfied: kiwisolver>=1.3.1 in /usr/local/lib/python3.11/dist-packages (from matplotlib) (1.4.8)\n",
            "Requirement already satisfied: numpy>=1.23 in /usr/local/lib/python3.11/dist-packages (from matplotlib) (1.26.4)\n",
            "Requirement already satisfied: packaging>=20.0 in /usr/local/lib/python3.11/dist-packages (from matplotlib) (24.2)\n",
            "Requirement already satisfied: pillow>=8 in /usr/local/lib/python3.11/dist-packages (from matplotlib) (11.1.0)\n",
            "Requirement already satisfied: pyparsing>=2.3.1 in /usr/local/lib/python3.11/dist-packages (from matplotlib) (3.2.1)\n",
            "Requirement already satisfied: python-dateutil>=2.7 in /usr/local/lib/python3.11/dist-packages (from matplotlib) (2.8.2)\n",
            "Requirement already satisfied: pandas>=1.2 in /usr/local/lib/python3.11/dist-packages (from seaborn) (2.2.2)\n",
            "Requirement already satisfied: pytz>=2020.1 in /usr/local/lib/python3.11/dist-packages (from pandas>=1.2->seaborn) (2024.2)\n",
            "Requirement already satisfied: tzdata>=2022.7 in /usr/local/lib/python3.11/dist-packages (from pandas>=1.2->seaborn) (2025.1)\n",
            "Requirement already satisfied: six>=1.5 in /usr/local/lib/python3.11/dist-packages (from python-dateutil>=2.7->matplotlib) (1.17.0)\n"
          ]
        }
      ],
      "source": [
        "!pip install papermill\n",
        "!pip install datasets sentence-transformers\n",
        "!pip install xgboost\n",
        "!pip install scikit-learn\n",
        "!pip install matplotlib seaborn"
      ]
    },
    {
      "cell_type": "markdown",
      "metadata": {
        "id": "mbgYLXu-Z-55"
      },
      "source": [
        "Load SNLI Dataset"
      ]
    },
    {
      "cell_type": "code",
      "execution_count": 10,
      "metadata": {
        "colab": {
          "base_uri": "https://localhost:8080/"
        },
        "id": "Q2BTF3QZZfCf",
        "outputId": "08842a5a-e75e-462b-8be7-0ac332a7d816"
      },
      "outputs": [
        {
          "output_type": "stream",
          "name": "stdout",
          "text": [
            "DatasetDict({\n",
            "    test: Dataset({\n",
            "        features: ['premise', 'hypothesis', 'label'],\n",
            "        num_rows: 10000\n",
            "    })\n",
            "    validation: Dataset({\n",
            "        features: ['premise', 'hypothesis', 'label'],\n",
            "        num_rows: 10000\n",
            "    })\n",
            "    train: Dataset({\n",
            "        features: ['premise', 'hypothesis', 'label'],\n",
            "        num_rows: 550152\n",
            "    })\n",
            "})\n",
            "Loaded 550152 sentence pairs.\n"
          ]
        }
      ],
      "source": [
        "from datasets import load_dataset\n",
        "\n",
        "# Load SNLI dataset\n",
        "snli = load_dataset('snli')\n",
        "\n",
        "# Check dataset structure\n",
        "print(snli)\n",
        "\n",
        "# Extract premises, hypotheses, and labels\n",
        "train_data = snli['train']\n",
        "premises = train_data['premise']\n",
        "hypotheses = train_data['hypothesis']\n",
        "labels = train_data['label']  # 0: entailment, 1: neutral, 2: contradiction\n",
        "\n",
        "# Remove rows with None or missing data\n",
        "filtered_data = [(p, h, l) for p, h, l in zip(premises, hypotheses, labels) if p and h]\n",
        "premises, hypotheses, labels = zip(*filtered_data)\n",
        "\n",
        "print(f\"Loaded {len(premises)} sentence pairs.\")"
      ]
    },
    {
      "cell_type": "markdown",
      "metadata": {
        "id": "jxiEKCdda1Tf"
      },
      "source": [
        "\n",
        "Preprocess and Balance Dataset"
      ]
    },
    {
      "cell_type": "code",
      "execution_count": 11,
      "metadata": {
        "colab": {
          "base_uri": "https://localhost:8080/"
        },
        "id": "Ft-D7nj3aBbH",
        "outputId": "886b466c-61b1-4ace-d9e9-8ef05b253b59"
      },
      "outputs": [
        {
          "output_type": "stream",
          "name": "stdout",
          "text": [
            "Loaded 550248 balanced sentence pairs.\n"
          ]
        }
      ],
      "source": [
        "from sklearn.utils import resample\n",
        "import random\n",
        "\n",
        "# Convert to a list for upsampling\n",
        "data = list(zip(premises, hypotheses, labels))\n",
        "\n",
        "# Separate by class labels\n",
        "entailment = [d for d in data if d[2] == 0]\n",
        "neutral = [d for d in data if d[2] == 1]\n",
        "contradiction = [d for d in data if d[2] == 2]\n",
        "\n",
        "# Upsample the minority classes (optional)\n",
        "max_size = max(len(entailment), len(neutral), len(contradiction))\n",
        "\n",
        "entailment_upsampled = resample(entailment, replace=True, n_samples=max_size, random_state=42)\n",
        "neutral_upsampled = resample(neutral, replace=True, n_samples=max_size, random_state=42)\n",
        "contradiction_upsampled = resample(contradiction, replace=True, n_samples=max_size, random_state=42)\n",
        "\n",
        "# Combine the classes back together\n",
        "balanced_data = entailment_upsampled + neutral_upsampled + contradiction_upsampled\n",
        "\n",
        "# Shuffle the dataset\n",
        "random.shuffle(balanced_data)\n",
        "\n",
        "# Unzip back to premises, hypotheses, and labels\n",
        "premises, hypotheses, labels = zip(*balanced_data)\n",
        "\n",
        "print(f\"Loaded {len(premises)} balanced sentence pairs.\")"
      ]
    },
    {
      "cell_type": "markdown",
      "metadata": {
        "id": "1a1ujgBGbMA1"
      },
      "source": [
        "Sentence Embeddings with Sentence-BERT - paraphrase-MiniLM-L6-v2"
      ]
    },
    {
      "cell_type": "code",
      "execution_count": 12,
      "metadata": {
        "colab": {
          "base_uri": "https://localhost:8080/",
          "height": 116,
          "referenced_widgets": [
            "abf828e310994e138b1728aa6a544006",
            "410bd860cfe34647a8ac9a0e0dccd5d8",
            "660387d641bd4ac2a8a8b9411d410fd0",
            "4dfc22558faa4fe6a870454a6d59ebfb",
            "db5448cd39d443b3b78d4b104c682c0e",
            "4f307a006a79498fa70fa70a55ef58fb",
            "7b1ab1ae116a4bb181191c0d02df29e6",
            "26ca34433f06490c92fdf0d1ac239dff",
            "399a0a36860e4367aa9528e25c2e4d32",
            "66cb5abb34b54d2ebdce57bd1811952b",
            "6e0ca8db40cd43a1bce51e0cd164dba3",
            "d2dcf347ac214dcc9169b59e054cb246",
            "98fe9f9fea5040a697e96b49dc0063ca",
            "0e32e44394994ec99704232003ea9040",
            "1ee88a51e550482dacd7535ce7ae38ba",
            "c5bd10856c8d479a89984ece3a33c0fb",
            "25407f06ba8f468e97fd8c6407889958",
            "caaebaba971943ee8c7281fa88032454",
            "582b8e4bc07841818a779708071229db",
            "ac2ce5412ffd4271b68f13a43a519157",
            "7db5c0025bd2448fa1c7af9cc83f834d",
            "21da5941cd794f97a09f9e3e806dfaac"
          ]
        },
        "id": "UBdPRexja5Zr",
        "outputId": "a972c2c4-6f46-4b8c-cf2c-0117c4c04afa"
      },
      "outputs": [
        {
          "output_type": "display_data",
          "data": {
            "text/plain": [
              "Batches:   0%|          | 0/17196 [00:00<?, ?it/s]"
            ],
            "application/vnd.jupyter.widget-view+json": {
              "version_major": 2,
              "version_minor": 0,
              "model_id": "abf828e310994e138b1728aa6a544006"
            }
          },
          "metadata": {}
        },
        {
          "output_type": "display_data",
          "data": {
            "text/plain": [
              "Batches:   0%|          | 0/17196 [00:00<?, ?it/s]"
            ],
            "application/vnd.jupyter.widget-view+json": {
              "version_major": 2,
              "version_minor": 0,
              "model_id": "d2dcf347ac214dcc9169b59e054cb246"
            }
          },
          "metadata": {}
        },
        {
          "output_type": "stream",
          "name": "stdout",
          "text": [
            "Premise Embedding Shape: (550248, 384)\n",
            "Hypothesis Embedding Shape: (550248, 384)\n"
          ]
        }
      ],
      "source": [
        "from sentence_transformers import SentenceTransformer\n",
        "\n",
        "# Load Sentence-BERT model\n",
        "model = SentenceTransformer('paraphrase-MiniLM-L6-v2')\n",
        "\n",
        "# Generate embeddings for both premises and hypotheses\n",
        "premise_embeddings = model.encode(premises, show_progress_bar=True)\n",
        "hypothesis_embeddings = model.encode(hypotheses, show_progress_bar=True)\n",
        "\n",
        "print(f\"Premise Embedding Shape: {premise_embeddings.shape}\")\n",
        "print(f\"Hypothesis Embedding Shape: {hypothesis_embeddings.shape}\")"
      ]
    },
    {
      "cell_type": "markdown",
      "metadata": {
        "id": "n9d3aNEUbaqt"
      },
      "source": [
        "Similarity Analysis (Cosine Similarity)"
      ]
    },
    {
      "cell_type": "code",
      "execution_count": 13,
      "metadata": {
        "id": "Ze5hMcjvbUqR",
        "colab": {
          "base_uri": "https://localhost:8080/"
        },
        "outputId": "5aa9c720-bfa1-4572-d27c-c6da6f09f0c1"
      },
      "outputs": [
        {
          "output_type": "stream",
          "name": "stdout",
          "text": [
            "Top 5 Similar Hypotheses:\n",
            "Score: 0.85, Hypothesis: A woman sits with her eyes closed.\n",
            "Score: 0.85, Hypothesis: A woman sits with her eyes closed.\n",
            "Score: 0.81, Hypothesis: There is a woman sitting with her legs crossed\n",
            "Score: 0.81, Hypothesis: There is a woman sitting with her legs crossed\n",
            "Score: 0.79, Hypothesis: A female wearing a gray shirt sits with her legs crossed.\n"
          ]
        }
      ],
      "source": [
        "from sklearn.metrics.pairwise import cosine_similarity\n",
        "\n",
        "# Example: Find similarity between the first premise and all hypotheses\n",
        "similarity_scores = cosine_similarity([premise_embeddings[0]], hypothesis_embeddings)\n",
        "\n",
        "# Retrieve top-5 most similar hypotheses\n",
        "top_indices = similarity_scores[0].argsort()[-5:][::-1]\n",
        "print(\"Top 5 Similar Hypotheses:\")\n",
        "for idx in top_indices:\n",
        "    print(f\"Score: {similarity_scores[0][idx]:.2f}, Hypothesis: {hypotheses[idx]}\")"
      ]
    },
    {
      "cell_type": "markdown",
      "metadata": {
        "id": "gCy6iQS2dZq4"
      },
      "source": [
        "Semantic Analysis - Sentiment or Similarity Analysis"
      ]
    },
    {
      "cell_type": "code",
      "execution_count": 14,
      "metadata": {
        "id": "ka5FnN-7ben9",
        "colab": {
          "base_uri": "https://localhost:8080/"
        },
        "outputId": "974a03ac-3c15-4b11-ae53-187344abdf6d"
      },
      "outputs": [
        {
          "output_type": "stream",
          "name": "stdout",
          "text": [
            "Semantic similarity score between the two sentences: 0.66\n"
          ]
        }
      ],
      "source": [
        "# Example: Perform semantic similarity analysis between two sentences\n",
        "sentence_1 = \"A person is walking in the park.\"\n",
        "sentence_2 = \"Someone is strolling in a garden.\"\n",
        "\n",
        "# Get embeddings\n",
        "embedding_1 = model.encode(sentence_1)\n",
        "embedding_2 = model.encode(sentence_2)\n",
        "\n",
        "# Compute cosine similarity\n",
        "similarity = cosine_similarity([embedding_1], [embedding_2])\n",
        "print(f\"Semantic similarity score between the two sentences: {similarity[0][0]:.2f}\")"
      ]
    },
    {
      "cell_type": "markdown",
      "metadata": {
        "id": "QIs6g8vrdtPv"
      },
      "source": [
        "Question-Answer Pair Generation (Using Premise and Hypothesis)"
      ]
    },
    {
      "cell_type": "code",
      "execution_count": 15,
      "metadata": {
        "id": "okdTWq1Jdc2V",
        "colab": {
          "base_uri": "https://localhost:8080/"
        },
        "outputId": "fcf5f11b-f3fa-4f3f-f7f9-f3f46d04c6da"
      },
      "outputs": [
        {
          "output_type": "stream",
          "name": "stdout",
          "text": [
            "Generated Question: What is happening in the following sentence: 'A blond woman sitting with her legs crossed with her eyes closed.'?\n",
            "Generated Answer: No, the statement doesn't match the premise.\n"
          ]
        }
      ],
      "source": [
        "import numpy as np\n",
        "\n",
        "def generate_question_answer_with_model(premise, hypothesis):\n",
        "    # Generate embeddings for premise and hypothesis\n",
        "    premise_embedding = model.encode(premise)\n",
        "    hypothesis_embedding = model.encode(hypothesis)\n",
        "\n",
        "    # Compare similarity between premise and hypothesis\n",
        "    similarity_score = np.dot(premise_embedding, hypothesis_embedding) / (np.linalg.norm(premise_embedding) * np.linalg.norm(hypothesis_embedding))\n",
        "\n",
        "    # Generate a question based on the premise using the model\n",
        "    question = f\"What is happening in the following sentence: '{premise}'?\"\n",
        "\n",
        "    # Determine the answer based on similarity score or other logic\n",
        "    if similarity_score > 0.7:  # High similarity (entailment)\n",
        "        answer = \"Yes, the statement is likely true.\"\n",
        "    else:  # Low similarity (contradiction or neutral)\n",
        "        answer = \"No, the statement doesn't match the premise.\"\n",
        "\n",
        "    return question, answer\n",
        "\n",
        "# Generate Q&A for the first example\n",
        "question, answer = generate_question_answer_with_model(premises[0], hypotheses[0])\n",
        "print(f\"Generated Question: {question}\")\n",
        "print(f\"Generated Answer: {answer}\")"
      ]
    },
    {
      "cell_type": "markdown",
      "metadata": {
        "id": "Z7pOMc-Gd8tH"
      },
      "source": [
        "Model Evaluation with XGBoost (Classification)"
      ]
    },
    {
      "cell_type": "code",
      "execution_count": 16,
      "metadata": {
        "id": "AyesbAovdxxD"
      },
      "outputs": [],
      "source": [
        "# from xgboost import XGBClassifier\n",
        "# from sklearn.model_selection import train_test_split\n",
        "# from sklearn.metrics import accuracy_score\n",
        "# import numpy as np\n",
        "\n",
        "# # Combine embeddings (premise and hypothesis embeddings)\n",
        "# combined_embeddings = [np.concatenate((p, h)) for p, h in zip(premise_embeddings, hypothesis_embeddings)]\n",
        "\n",
        "# # Split the data into train and test sets\n",
        "# X_train, X_test, y_train, y_test = train_test_split(combined_embeddings, labels, test_size=0.2, random_state=42)\n",
        "\n",
        "# # Train an XGBoost classifier\n",
        "# xgb_clf = XGBClassifier(eval_metric='mlogloss')\n",
        "# xgb_clf.fit(X_train, y_train)\n",
        "\n",
        "# # Evaluate the model\n",
        "# y_pred = xgb_clf.predict(X_test)\n",
        "# accuracy = accuracy_score(y_test, y_pred)\n",
        "# print(f\"XGBoost Model Accuracy: {accuracy:.2f}\")"
      ]
    },
    {
      "cell_type": "markdown",
      "metadata": {
        "id": "C7hufEnZhbRK"
      },
      "source": [
        "Clustering: KMeans Clustering with PCA Visualization"
      ]
    },
    {
      "cell_type": "code",
      "execution_count": 17,
      "metadata": {
        "id": "Tx1mYxooeBVl",
        "colab": {
          "base_uri": "https://localhost:8080/",
          "height": 564
        },
        "outputId": "828533b9-5e0e-40cc-d5ef-3a956e568174"
      },
      "outputs": [
        {
          "output_type": "display_data",
          "data": {
            "text/plain": [
              "<Figure size 800x600 with 2 Axes>"
            ],
            "image/png": "[encoded data removed]"
          },
          "metadata": {}
        }
      ],
      "source": [
        "from sklearn.cluster import KMeans\n",
        "from sklearn.decomposition import PCA\n",
        "import matplotlib.pyplot as plt\n",
        "\n",
        "# KMeans clustering\n",
        "kmeans = KMeans(n_clusters=3, random_state=42)\n",
        "clusters = kmeans.fit_predict(premise_embeddings)\n",
        "\n",
        "# Visualize clusters using PCA\n",
        "pca = PCA(n_components=2)\n",
        "reduced_embeddings = pca.fit_transform(premise_embeddings)\n",
        "\n",
        "# Plotting the clusters with PCA reduction\n",
        "plt.figure(figsize=(8, 6))\n",
        "plt.scatter(reduced_embeddings[:, 0], reduced_embeddings[:, 1], c=clusters, cmap='viridis', s=5)\n",
        "plt.title(\"Sentence Clustering (PCA Projection)\")\n",
        "plt.xlabel(\"PCA Dimension 1\")\n",
        "plt.ylabel(\"PCA Dimension 2\")\n",
        "plt.colorbar()\n",
        "plt.show()"
      ]
    },
    {
      "cell_type": "markdown",
      "metadata": {
        "id": "x4kA7UHnhrgE"
      },
      "source": [
        "Query-Based Information Retrieval (With Semantic Matching)"
      ]
    },
    {
      "cell_type": "code",
      "execution_count": 18,
      "metadata": {
        "id": "BCvk_IigheYh",
        "colab": {
          "base_uri": "https://localhost:8080/"
        },
        "outputId": "9928b88c-c5a4-4603-96c3-86bc20a2311a"
      },
      "outputs": [
        {
          "output_type": "stream",
          "name": "stdout",
          "text": [
            "Enter your query sentence: Will you have a coffee?\n",
            "\n",
            "Top Matches for Query (Diverse Results):\n",
            "Score: 0.74, Sentence: Are you coming with me for a cup of coffee?\n",
            "Score: 0.60, Sentence: Two men are having coffee,.\n",
            "Score: 0.57, Sentence: A woman is drinking her coffee.\n",
            "Score: 0.57, Sentence: Woman leaves Peet's coffee with a coffee and travel cup.\n",
            "Score: 0.56, Sentence: The man is having coffee at night.\n"
          ]
        }
      ],
      "source": [
        "# Get query input from the user\n",
        "query = input(\"Enter your query sentence: \")  # Prompting for input\n",
        "\n",
        "# Generate the query embedding\n",
        "query_embedding = model.encode(query)\n",
        "\n",
        "# Compute similarity scores between the query and all premises\n",
        "similarity_scores = cosine_similarity([query_embedding], premise_embeddings)\n",
        "\n",
        "# Ensure the premise and similarity scores align\n",
        "assert len(premises) == len(similarity_scores[0]), \"Premises length and similarity scores length mismatch!\"\n",
        "\n",
        "# Retrieve top N most similar sentences with diversity\n",
        "top_n = 5\n",
        "retrieved_indices = set()\n",
        "top_results = []\n",
        "\n",
        "for idx in similarity_scores[0].argsort()[::-1]:\n",
        "    if idx < len(premises) and premises[idx] not in retrieved_indices:\n",
        "        top_results.append((similarity_scores[0][idx], premises[idx]))\n",
        "        retrieved_indices.add(premises[idx])\n",
        "    if len(top_results) >= top_n:\n",
        "        break\n",
        "\n",
        "# Display top matches\n",
        "print(\"\\nTop Matches for Query (Diverse Results):\")\n",
        "for score, sentence in top_results:\n",
        "    print(f\"Score: {score:.2f}, Sentence: {sentence}\")"
      ]
    },
    {
      "cell_type": "code",
      "execution_count": 19,
      "metadata": {
        "id": "lT5SgxSBhtsY",
        "colab": {
          "base_uri": "https://localhost:8080/"
        },
        "outputId": "cba5045e-0000-4808-82cd-14f1167cdf13"
      },
      "outputs": [
        {
          "output_type": "stream",
          "name": "stdout",
          "text": [
            "Enter your query sentence: I am watching a movie.\n",
            "\n",
            "Top Matches for Query (Diverse Results):\n",
            "Score: 0.51, Sentence: A man is dressed as a movie character holding a gun in the lobby of a movie theater.\n",
            "Score: 0.51, Sentence: A lady bowling while watching a movie.\n",
            "Score: 0.49, Sentence: a line waiting to get into a movie\n",
            "Score: 0.49, Sentence: An audience is watching and waiting for something to happen.\n",
            "Score: 0.49, Sentence: The marquee of movies now playing.\n"
          ]
        }
      ],
      "source": [
        "# Get query input from the user\n",
        "query = input(\"Enter your query sentence: \")  # Prompting for input\n",
        "\n",
        "# Generate the query embedding\n",
        "query_embedding = model.encode(query)\n",
        "\n",
        "# Compute similarity scores between the query and all premises\n",
        "similarity_scores = cosine_similarity([query_embedding], premise_embeddings)\n",
        "\n",
        "# Ensure the premise and similarity scores align\n",
        "assert len(premises) == len(similarity_scores[0]), \"Premises length and similarity scores length mismatch!\"\n",
        "\n",
        "# Retrieve top N most similar sentences with diversity\n",
        "top_n = 5\n",
        "retrieved_indices = set()\n",
        "top_results = []\n",
        "\n",
        "for idx in similarity_scores[0].argsort()[::-1]:\n",
        "    if idx < len(premises) and premises[idx] not in retrieved_indices:\n",
        "        top_results.append((similarity_scores[0][idx], premises[idx]))\n",
        "        retrieved_indices.add(premises[idx])\n",
        "    if len(top_results) >= top_n:\n",
        "        break\n",
        "\n",
        "# Display top matches\n",
        "print(\"\\nTop Matches for Query (Diverse Results):\")\n",
        "for score, sentence in top_results:\n",
        "    print(f\"Score: {score:.2f}, Sentence: {sentence}\")"
      ]
    },
    {
      "cell_type": "code",
      "execution_count": 20,
      "metadata": {
        "id": "TOjPlwebh3CK",
        "colab": {
          "base_uri": "https://localhost:8080/"
        },
        "outputId": "1991b7af-30d5-48ec-81ba-ec2ad5b3e64c"
      },
      "outputs": [
        {
          "output_type": "stream",
          "name": "stdout",
          "text": [
            "Enter your query sentence: Today is a sunny day.\n",
            "\n",
            "Top Matches for Query (Diverse Results):\n",
            "Score: 0.80, Sentence: People outside on a sunny day.\n",
            "Score: 0.78, Sentence: People outside walking and enjoying a sunny day.\n",
            "Score: 0.74, Sentence: People are walking the streets on a sunny day.\n",
            "Score: 0.73, Sentence: people walking during a sunny day.\n",
            "Score: 0.72, Sentence: Group of people on a sunny day.\n"
          ]
        }
      ],
      "source": [
        "# Get query input from the user\n",
        "query = input(\"Enter your query sentence: \")  # Prompting for input\n",
        "\n",
        "# Generate the query embedding\n",
        "query_embedding = model.encode(query)\n",
        "\n",
        "# Compute similarity scores between the query and all premises\n",
        "similarity_scores = cosine_similarity([query_embedding], premise_embeddings)\n",
        "\n",
        "# Ensure the premise and similarity scores align\n",
        "assert len(premises) == len(similarity_scores[0]), \"Premises length and similarity scores length mismatch!\"\n",
        "\n",
        "# Retrieve top N most similar sentences with diversity\n",
        "top_n = 5\n",
        "retrieved_indices = set()\n",
        "top_results = []\n",
        "\n",
        "for idx in similarity_scores[0].argsort()[::-1]:\n",
        "    if idx < len(premises) and premises[idx] not in retrieved_indices:\n",
        "        top_results.append((similarity_scores[0][idx], premises[idx]))\n",
        "        retrieved_indices.add(premises[idx])\n",
        "    if len(top_results) >= top_n:\n",
        "        break\n",
        "\n",
        "# Display top matches\n",
        "print(\"\\nTop Matches for Query (Diverse Results):\")\n",
        "for score, sentence in top_results:\n",
        "    print(f\"Score: {score:.2f}, Sentence: {sentence}\")"
      ]
    },
    {
      "cell_type": "code",
      "execution_count": 21,
      "metadata": {
        "id": "Ydu_DeP8h_LR",
        "colab": {
          "base_uri": "https://localhost:8080/",
          "height": 138,
          "referenced_widgets": [
            "c78aff714ad745348f9529ee3f3f39b7",
            "c388c082c6af4c53b3906679ca2fb3c3",
            "4471045c66a043ce858db0fd533efa2e",
            "c8819e61e5354caf98127af9b6b97524",
            "c015c58b75894755916ba763e6df0c52",
            "8b1fb780b7db4e219ec96fe557385048",
            "bb7e74e4350641c1abae265ad180535e",
            "44a243b148354a26a644711c5cf76cc5",
            "a67f930c707f4400857d361577427f50",
            "c5d21e3b80ab44e787250a9acede6d20",
            "c27069f277c6477591cd6bd4a4519516"
          ]
        },
        "outputId": "5d735928-fc85-4b72-98fa-0d45034005a6"
      },
      "outputs": [
        {
          "output_type": "stream",
          "name": "stdout",
          "text": [
            "First 5 premises:\n",
            " ('A blond woman sitting with her legs crossed with her eyes closed.', 'An older gentleman standing at a jewelry counter writing a receipt.', 'Two young ballerinas pose before a sign reading \"babys\".', 'A human figure in a nature-like costume standing as the center of attention at a party.', 'A man in a blue shirt is talking to someone unseen while next to him a woman in a pink sweater closes her eyes.')\n"
          ]
        },
        {
          "output_type": "display_data",
          "data": {
            "text/plain": [
              "Batches:   0%|          | 0/17196 [00:00<?, ?it/s]"
            ],
            "application/vnd.jupyter.widget-view+json": {
              "version_major": 2,
              "version_minor": 0,
              "model_id": "c78aff714ad745348f9529ee3f3f39b7"
            }
          },
          "metadata": {}
        },
        {
          "output_type": "stream",
          "name": "stdout",
          "text": [
            "Length of encoded premises: 550248\n",
            "Length of similarity scores: 550248\n"
          ]
        }
      ],
      "source": [
        "# Print some premises to verify\n",
        "print(f\"First 5 premises:\\n {premises[:5]}\")\n",
        "\n",
        "# Ensure you are encoding the correct data\n",
        "premise_embeddings = model.encode(premises, show_progress_bar=True)\n",
        "query_embedding = model.encode(query)  # Encoding only the query\n",
        "\n",
        "# Verify lengths after encoding\n",
        "print(f\"Length of encoded premises: {len(premise_embeddings)}\")\n",
        "print(f\"Length of similarity scores: {len(similarity_scores[0])}\")"
      ]
    },
    {
      "cell_type": "code",
      "execution_count": 22,
      "metadata": {
        "id": "mrj4nV8_iE-B",
        "colab": {
          "base_uri": "https://localhost:8080/"
        },
        "outputId": "3fc333d3-3c85-4387-faf5-ca0c9611450e"
      },
      "outputs": [
        {
          "output_type": "stream",
          "name": "stdout",
          "text": [
            "Length of premises: 550248\n",
            "Length of similarity_scores: 550248\n"
          ]
        }
      ],
      "source": [
        "# Assuming you have already defined the similarity scores after encoding\n",
        "similarity_scores = cosine_similarity([query_embedding], premise_embeddings)\n",
        "\n",
        "# Verify lengths\n",
        "print(f\"Length of premises: {len(premises)}\")\n",
        "print(f\"Length of similarity_scores: {len(similarity_scores[0])}\")"
      ]
    },
    {
      "cell_type": "markdown",
      "metadata": {
        "id": "H565XbatiIl2"
      },
      "source": [
        "Calculating the Difference in Embeddings Between Premise and Hypothesis"
      ]
    },
    {
      "cell_type": "code",
      "execution_count": 23,
      "metadata": {
        "id": "rTyZscvAiLIr",
        "colab": {
          "base_uri": "https://localhost:8080/",
          "height": 1000
        },
        "outputId": "9055285a-11c2-4d13-b2bc-f23eeeb4b726"
      },
      "outputs": [
        {
          "output_type": "display_data",
          "data": {
            "text/plain": [
              "<Figure size 800x600 with 1 Axes>"
            ],
            "image/png": "[encoded data removed]"
          },
          "metadata": {}
        },
        {
          "output_type": "stream",
          "name": "stdout",
          "text": [
            "Embedding Difference Example (Premise-Hypothesis):\n",
            "[2.92273939e-01 1.77991748e-01 2.16069102e-01 8.09087455e-02\n",
            " 4.05635178e-01 1.10038966e-02 2.15004012e-01 1.18977167e-01\n",
            " 5.60277820e-01 5.63883036e-02 4.40821826e-01 1.32399574e-01\n",
            " 3.07347506e-01 1.39884830e-01 1.08538657e-01 1.71873599e-01\n",
            " 4.58716333e-01 4.32195663e-02 7.39967525e-02 1.82675213e-01\n",
            " 6.02602959e-02 5.51580369e-01 5.02842665e-03 2.64307499e-01\n",
            " 1.65260524e-01 1.24100089e-01 9.10661697e-01 1.74414903e-01\n",
            " 6.00102544e-03 2.50130445e-01 5.64328790e-01 2.48547137e-01\n",
            " 6.11209631e-01 3.38570595e-01 2.84684658e-01 1.99576199e-01\n",
            " 1.57080695e-01 2.25980192e-01 5.51539660e-02 5.38870245e-02\n",
            " 3.64389837e-01 9.97646093e-01 1.59102261e-01 1.03613347e-01\n",
            " 1.49969906e-01 5.48825324e-01 2.24164456e-01 5.05667567e-01\n",
            " 1.51598930e-01 4.48839098e-01 4.47711736e-01 5.48749804e-01\n",
            " 4.24940169e-01 9.11688805e-03 4.89869624e-01 1.16208911e+00\n",
            " 1.15778185e-01 7.39343613e-02 4.87770140e-01 1.45593196e-01\n",
            " 3.05054635e-02 6.56993151e-01 4.01564568e-01 3.67683470e-02\n",
            " 3.95056844e-01 3.76607120e-01 1.76264584e-01 5.19639194e-01\n",
            " 3.96447629e-01 2.04268813e-01 5.30530274e-01 6.07410967e-02\n",
            " 3.79111111e-01 1.56738892e-01 4.43552732e-01 1.52789593e-01\n",
            " 7.21567512e-01 1.33832484e-01 5.44241309e-01 1.39014482e-01\n",
            " 4.45441127e-01 2.93051660e-01 1.08106755e-01 1.06255725e-01\n",
            " 2.33160973e-01 9.07805860e-02 1.55391991e-02 1.27669871e-02\n",
            " 5.71980298e-01 1.58130139e-01 6.77639246e-02 8.28825116e-01\n",
            " 4.65080261e-01 2.66995877e-01 4.62610275e-02 1.09024644e-01\n",
            " 7.84267962e-01 1.00687277e+00 3.48794818e-01 2.52521455e-01\n",
            " 3.41869980e-01 4.07202303e-01 3.26862574e-01 1.76518559e-02\n",
            " 2.43976831e-01 5.52779317e-01 6.57808602e-01 4.06492531e-01\n",
            " 1.45377010e-01 1.87564820e-01 1.39233157e-01 3.58796895e-01\n",
            " 7.55942464e-02 8.53954405e-02 4.09529507e-01 1.92862183e-01\n",
            " 2.33928695e-01 1.52215362e-01 5.54100275e-01 6.11712635e-01\n",
            " 3.61354291e-01 1.51983261e-01 2.94205487e-01 1.90263152e-01\n",
            " 3.01046669e-03 1.71926618e-03 1.88899785e-01 7.18794912e-02\n",
            " 2.24070251e-02 7.23302960e-01 3.71446013e-01 4.07486618e-01\n",
            " 2.59052932e-01 1.92748398e-01 4.50483233e-01 4.19487864e-01\n",
            " 4.74026799e-03 1.37883067e-01 3.46531510e-01 3.05303335e-02\n",
            " 5.94357848e-02 3.92211527e-01 1.06448865e+00 1.88555285e-01\n",
            " 2.61278808e-01 1.40906200e-02 2.30772436e-01 5.39128006e-01\n",
            " 4.96889532e-01 5.72114885e-02 3.89637589e-01 2.94975400e-01\n",
            " 3.84182334e-02 6.11413419e-01 3.19727033e-01 4.23474252e-01\n",
            " 2.68956363e-01 2.02826232e-01 1.84472978e-01 1.25305340e-01\n",
            " 8.85668576e-01 2.25606441e-01 1.13224268e-01 6.15232438e-02\n",
            " 1.91995874e-01 5.01227498e-01 3.91413271e-01 6.06107593e-01\n",
            " 4.00321662e-01 2.17215672e-01 4.45268393e-01 4.79880348e-03\n",
            " 3.24839890e-01 2.40170397e-02 5.87709993e-02 3.06532234e-01\n",
            " 2.78016746e-01 8.93413499e-02 3.98657918e-01 5.09919375e-02\n",
            " 2.26388872e-01 4.27141666e-01 1.05078185e+00 2.16990620e-01\n",
            " 1.71504274e-01 1.67414635e-01 3.59587252e-01 6.45960093e-01\n",
            " 1.05851337e-01 1.56275943e-01 2.40617990e-03 2.14842260e-01\n",
            " 5.55717826e-01 1.81121677e-02 3.89458984e-02 6.58609033e-01\n",
            " 3.22188497e-01 1.89656034e-01 1.30487651e-01 1.89862370e-01\n",
            " 2.81137317e-01 8.47877145e-01 3.94439161e-01 9.75439996e-02\n",
            " 1.61519647e-01 5.62717319e-02 6.26920223e-01 1.38804749e-01\n",
            " 7.05883563e-01 4.51717973e-01 1.43972427e-01 2.98432559e-01\n",
            " 2.81356484e-01 3.45230162e-01 6.49577677e-02 3.37897390e-01\n",
            " 2.75674462e-01 2.36481577e-02 1.91153228e-01 1.13319859e-01\n",
            " 4.85122472e-01 6.29500091e-01 2.21719369e-01 2.88214713e-01\n",
            " 6.93953216e-01 8.26534182e-02 1.59892380e-01 1.60192192e-01\n",
            " 6.47776783e-01 7.02574313e-01 1.77225351e-01 1.32049561e-01\n",
            " 3.05837393e-02 3.55232537e-01 7.16968536e-01 4.08108443e-01\n",
            " 2.52145648e-01 4.06722337e-01 3.20232660e-02 1.12257972e-01\n",
            " 2.86285400e-01 3.90294254e-01 1.43425211e-01 4.93929207e-01\n",
            " 2.96172082e-01 9.35980976e-02 2.40139216e-02 4.44076434e-02\n",
            " 1.59687340e-01 3.53994608e-01 1.00202203e-01 3.64432871e-01\n",
            " 6.86322629e-01 3.34286064e-01 4.18149412e-01 1.71001270e-01\n",
            " 1.56444937e-01 3.35656524e-01 2.37861052e-02 1.87705830e-02\n",
            " 1.39733911e-01 1.33544505e-01 4.17041719e-01 2.34372512e-01\n",
            " 5.23381054e-01 1.46942019e-01 3.93477947e-01 3.50980461e-02\n",
            " 2.64538348e-01 9.87607986e-02 3.83275717e-01 5.65012470e-02\n",
            " 2.64579266e-01 4.92463648e-01 1.05199978e-01 4.17671502e-01\n",
            " 8.30262899e-01 6.78740144e-02 2.22664118e-01 6.77350461e-02\n",
            " 4.05205727e-01 2.89795369e-01 1.81842372e-02 2.91984946e-01\n",
            " 4.33775127e-01 1.73534453e-01 8.28710198e-02 4.79843736e-01\n",
            " 3.38326991e-01 7.16862679e-02 2.40317702e-01 5.91827393e-01\n",
            " 2.75127143e-01 6.10983372e-02 8.66525918e-02 7.70920873e-01\n",
            " 4.52068597e-01 2.76377439e-01 1.08750999e+00 8.46370161e-01\n",
            " 1.38046518e-01 2.54739314e-01 3.65139246e-02 1.66894689e-01\n",
            " 2.02281475e-02 2.83474803e-01 4.24588978e-01 1.79243803e-01\n",
            " 5.30687869e-01 2.95959383e-01 5.39063811e-02 2.78224736e-01\n",
            " 6.23572409e-01 9.24453497e-01 1.36844695e-01 3.15010548e-05\n",
            " 8.29487205e-01 9.29785818e-02 4.18567896e-01 3.29564571e-01\n",
            " 1.70512274e-01 7.18540668e-01 4.87841487e-01 1.68165624e-01\n",
            " 2.19903052e-01 5.60396612e-01 2.58601725e-01 3.98605227e-01\n",
            " 5.30765057e-01 1.62607133e+00 5.02838135e-01 3.51840675e-01\n",
            " 2.27951050e-01 9.99953896e-02 7.57856250e-01 5.67427754e-01\n",
            " 3.86763871e-01 3.13278407e-01 1.48096204e-01 1.02572635e-01\n",
            " 8.58500898e-02 3.14688027e-01 1.42999023e-01 5.11086226e-01\n",
            " 2.71684587e-01 4.77147549e-02 4.54227000e-01 1.77555591e-01\n",
            " 3.51486981e-01 1.75007954e-01 3.99431080e-01 6.91787899e-02\n",
            " 1.66551381e-01 4.61144708e-02 2.37786889e-01 7.56450534e-01\n",
            " 4.24127817e-01 8.84174034e-02 8.19939256e-01 2.33927116e-01\n",
            " 3.46551612e-02 1.75012201e-02 1.34158283e-01 1.30049661e-01\n",
            " 6.95108294e-01 2.28852302e-01 4.60019261e-01 1.96006522e-01\n",
            " 7.08958268e-01 2.28111465e-02 1.64166182e-01 6.08296394e-02\n",
            " 1.39224112e-01 9.47892144e-02 4.18099791e-01 9.57055449e-01\n",
            " 4.74153832e-02 5.02922297e-01 3.49751353e-01 3.52274120e-01\n",
            " 2.15521798e-01 6.78663850e-02 1.10062003e-01 2.59416699e-01]\n"
          ]
        }
      ],
      "source": [
        "import numpy as np\n",
        "\n",
        "# Example: Calculate the difference in embeddings between premise and hypothesis\n",
        "embedding_diff = np.abs(premise_embeddings[0] - hypothesis_embeddings[0])\n",
        "\n",
        "# Visualize the embedding differences for the first sentence pair\n",
        "plt.figure(figsize=(8, 6))\n",
        "plt.bar(range(len(embedding_diff)), embedding_diff)\n",
        "plt.title(\"Embedding Differences Between Premise and Hypothesis\")\n",
        "plt.xlabel(\"Embedding Dimension Index\")\n",
        "plt.ylabel(\"Absolute Difference\")\n",
        "plt.show()\n",
        "\n",
        "print(\"Embedding Difference Example (Premise-Hypothesis):\")\n",
        "print(embedding_diff)"
      ]
    },
    {
      "cell_type": "markdown",
      "metadata": {
        "id": "Cz1SXfhBiRgS"
      },
      "source": [
        "Visualizing Sentence Embedding Distributions"
      ]
    },
    {
      "cell_type": "code",
      "execution_count": 24,
      "metadata": {
        "id": "e0eNGqCFiSjp",
        "colab": {
          "base_uri": "https://localhost:8080/",
          "height": 472
        },
        "outputId": "7db4d6df-44b6-4915-c2c4-03de6eccb542"
      },
      "outputs": [
        {
          "output_type": "display_data",
          "data": {
            "text/plain": [
              "<Figure size 640x480 with 1 Axes>"
            ],
            "image/png": "[encoded data removed]"
          },
          "metadata": {}
        }
      ],
      "source": [
        "import seaborn as sns\n",
        "\n",
        "# Visualize the distribution of the first dimension of premise embeddings\n",
        "sns.histplot(premise_embeddings[:, 0], kde=True, color='blue', label='Premise Embeddings')\n",
        "sns.histplot(hypothesis_embeddings[:, 0], kde=True, color='red', label='Hypothesis Embeddings')\n",
        "plt.legend()\n",
        "plt.title(\"Distribution of Embedding Dimensions\")\n",
        "plt.xlabel(\"Embedding Dimension 1 Value\")\n",
        "plt.ylabel(\"Frequency\")\n",
        "plt.show()"
      ]
    },
    {
      "cell_type": "code",
      "execution_count": 24,
      "metadata": {
        "id": "SZIHxUmvi1x1"
      },
      "outputs": [],
      "source": []
    }
  ],
  "metadata": {
    "accelerator": "GPU",
    "colab": {
      "gpuType": "T4",
      "provenance": [],
      "authorship_tag": "ABX9TyMMGrukhcNXoOnZrW/5L/FF",
      "include_colab_link": true
    },
    "kernelspec": {
      "display_name": "Python 3",
      "name": "python3"
    },
    "language_info": {
      "name": "python"
    },
    "widgets": {
      "application/vnd.jupyter.widget-state+json": {
        "abf828e310994e138b1728aa6a544006": {
          "model_module": "@jupyter-widgets/controls",
          "model_name": "HBoxModel",
          "model_module_version": "1.5.0",
          "state": {
            "_dom_classes": [],
            "_model_module": "@jupyter-widgets/controls",
            "_model_module_version": "1.5.0",
            "_model_name": "HBoxModel",
            "_view_count": null,
            "_view_module": "@jupyter-widgets/controls",
            "_view_module_version": "1.5.0",
            "_view_name": "HBoxView",
            "box_style": "",
            "children": [
              "IPY_MODEL_410bd860cfe34647a8ac9a0e0dccd5d8",
              "IPY_MODEL_660387d641bd4ac2a8a8b9411d410fd0",
              "IPY_MODEL_4dfc22558faa4fe6a870454a6d59ebfb"
            ],
            "layout": "IPY_MODEL_db5448cd39d443b3b78d4b104c682c0e"
          }
        },
        "410bd860cfe34647a8ac9a0e0dccd5d8": {
          "model_module": "@jupyter-widgets/controls",
          "model_name": "HTMLModel",
          "model_module_version": "1.5.0",
          "state": {
            "_dom_classes": [],
            "_model_module": "@jupyter-widgets/controls",
            "_model_module_version": "1.5.0",
            "_model_name": "HTMLModel",
            "_view_count": null,
            "_view_module": "@jupyter-widgets/controls",
            "_view_module_version": "1.5.0",
            "_view_name": "HTMLView",
            "description": "",
            "description_tooltip": null,
            "layout": "IPY_MODEL_4f307a006a79498fa70fa70a55ef58fb",
            "placeholder": "​",
            "style": "IPY_MODEL_7b1ab1ae116a4bb181191c0d02df29e6",
            "value": "Batches: 100%"
          }
        },
        "660387d641bd4ac2a8a8b9411d410fd0": {
          "model_module": "@jupyter-widgets/controls",
          "model_name": "FloatProgressModel",
          "model_module_version": "1.5.0",
          "state": {
            "_dom_classes": [],
            "_model_module": "@jupyter-widgets/controls",
            "_model_module_version": "1.5.0",
            "_model_name": "FloatProgressModel",
            "_view_count": null,
            "_view_module": "@jupyter-widgets/controls",
            "_view_module_version": "1.5.0",
            "_view_name": "ProgressView",
            "bar_style": "success",
            "description": "",
            "description_tooltip": null,
            "layout": "IPY_MODEL_26ca34433f06490c92fdf0d1ac239dff",
            "max": 17196,
            "min": 0,
            "orientation": "horizontal",
            "style": "IPY_MODEL_399a0a36860e4367aa9528e25c2e4d32",
            "value": 17196
          }
        },
        "4dfc22558faa4fe6a870454a6d59ebfb": {
          "model_module": "@jupyter-widgets/controls",
          "model_name": "HTMLModel",
          "model_module_version": "1.5.0",
          "state": {
            "_dom_classes": [],
            "_model_module": "@jupyter-widgets/controls",
            "_model_module_version": "1.5.0",
            "_model_name": "HTMLModel",
            "_view_count": null,
            "_view_module": "@jupyter-widgets/controls",
            "_view_module_version": "1.5.0",
            "_view_name": "HTMLView",
            "description": "",
            "description_tooltip": null,
            "layout": "IPY_MODEL_66cb5abb34b54d2ebdce57bd1811952b",
            "placeholder": "​",
            "style": "IPY_MODEL_6e0ca8db40cd43a1bce51e0cd164dba3",
            "value": " 17196/17196 [02:48&lt;00:00, 89.26it/s]"
          }
        },
        "db5448cd39d443b3b78d4b104c682c0e": {
          "model_module": "@jupyter-widgets/base",
          "model_name": "LayoutModel",
          "model_module_version": "1.2.0",
          "state": {
            "_model_module": "@jupyter-widgets/base",
            "_model_module_version": "1.2.0",
            "_model_name": "LayoutModel",
            "_view_count": null,
            "_view_module": "@jupyter-widgets/base",
            "_view_module_version": "1.2.0",
            "_view_name": "LayoutView",
            "align_content": null,
            "align_items": null,
            "align_self": null,
            "border": null,
            "bottom": null,
            "display": null,
            "flex": null,
            "flex_flow": null,
            "grid_area": null,
            "grid_auto_columns": null,
            "grid_auto_flow": null,
            "grid_auto_rows": null,
            "grid_column": null,
            "grid_gap": null,
            "grid_row": null,
            "grid_template_areas": null,
            "grid_template_columns": null,
            "grid_template_rows": null,
            "height": null,
            "justify_content": null,
            "justify_items": null,
            "left": null,
            "margin": null,
            "max_height": null,
            "max_width": null,
            "min_height": null,
            "min_width": null,
            "object_fit": null,
            "object_position": null,
            "order": null,
            "overflow": null,
            "overflow_x": null,
            "overflow_y": null,
            "padding": null,
            "right": null,
            "top": null,
            "visibility": null,
            "width": null
          }
        },
        "4f307a006a79498fa70fa70a55ef58fb": {
          "model_module": "@jupyter-widgets/base",
          "model_name": "LayoutModel",
          "model_module_version": "1.2.0",
          "state": {
            "_model_module": "@jupyter-widgets/base",
            "_model_module_version": "1.2.0",
            "_model_name": "LayoutModel",
            "_view_count": null,
            "_view_module": "@jupyter-widgets/base",
            "_view_module_version": "1.2.0",
            "_view_name": "LayoutView",
            "align_content": null,
            "align_items": null,
            "align_self": null,
            "border": null,
            "bottom": null,
            "display": null,
            "flex": null,
            "flex_flow": null,
            "grid_area": null,
            "grid_auto_columns": null,
            "grid_auto_flow": null,
            "grid_auto_rows": null,
            "grid_column": null,
            "grid_gap": null,
            "grid_row": null,
            "grid_template_areas": null,
            "grid_template_columns": null,
            "grid_template_rows": null,
            "height": null,
            "justify_content": null,
            "justify_items": null,
            "left": null,
            "margin": null,
            "max_height": null,
            "max_width": null,
            "min_height": null,
            "min_width": null,
            "object_fit": null,
            "object_position": null,
            "order": null,
            "overflow": null,
            "overflow_x": null,
            "overflow_y": null,
            "padding": null,
            "right": null,
            "top": null,
            "visibility": null,
            "width": null
          }
        },
        "7b1ab1ae116a4bb181191c0d02df29e6": {
          "model_module": "@jupyter-widgets/controls",
          "model_name": "DescriptionStyleModel",
          "model_module_version": "1.5.0",
          "state": {
            "_model_module": "@jupyter-widgets/controls",
            "_model_module_version": "1.5.0",
            "_model_name": "DescriptionStyleModel",
            "_view_count": null,
            "_view_module": "@jupyter-widgets/base",
            "_view_module_version": "1.2.0",
            "_view_name": "StyleView",
            "description_width": ""
          }
        },
        "26ca34433f06490c92fdf0d1ac239dff": {
          "model_module": "@jupyter-widgets/base",
          "model_name": "LayoutModel",
          "model_module_version": "1.2.0",
          "state": {
            "_model_module": "@jupyter-widgets/base",
            "_model_module_version": "1.2.0",
            "_model_name": "LayoutModel",
            "_view_count": null,
            "_view_module": "@jupyter-widgets/base",
            "_view_module_version": "1.2.0",
            "_view_name": "LayoutView",
            "align_content": null,
            "align_items": null,
            "align_self": null,
            "border": null,
            "bottom": null,
            "display": null,
            "flex": null,
            "flex_flow": null,
            "grid_area": null,
            "grid_auto_columns": null,
            "grid_auto_flow": null,
            "grid_auto_rows": null,
            "grid_column": null,
            "grid_gap": null,
            "grid_row": null,
            "grid_template_areas": null,
            "grid_template_columns": null,
            "grid_template_rows": null,
            "height": null,
            "justify_content": null,
            "justify_items": null,
            "left": null,
            "margin": null,
            "max_height": null,
            "max_width": null,
            "min_height": null,
            "min_width": null,
            "object_fit": null,
            "object_position": null,
            "order": null,
            "overflow": null,
            "overflow_x": null,
            "overflow_y": null,
            "padding": null,
            "right": null,
            "top": null,
            "visibility": null,
            "width": null
          }
        },
        "399a0a36860e4367aa9528e25c2e4d32": {
          "model_module": "@jupyter-widgets/controls",
          "model_name": "ProgressStyleModel",
          "model_module_version": "1.5.0",
          "state": {
            "_model_module": "@jupyter-widgets/controls",
            "_model_module_version": "1.5.0",
            "_model_name": "ProgressStyleModel",
            "_view_count": null,
            "_view_module": "@jupyter-widgets/base",
            "_view_module_version": "1.2.0",
            "_view_name": "StyleView",
            "bar_color": null,
            "description_width": ""
          }
        },
        "66cb5abb34b54d2ebdce57bd1811952b": {
          "model_module": "@jupyter-widgets/base",
          "model_name": "LayoutModel",
          "model_module_version": "1.2.0",
          "state": {
            "_model_module": "@jupyter-widgets/base",
            "_model_module_version": "1.2.0",
            "_model_name": "LayoutModel",
            "_view_count": null,
            "_view_module": "@jupyter-widgets/base",
            "_view_module_version": "1.2.0",
            "_view_name": "LayoutView",
            "align_content": null,
            "align_items": null,
            "align_self": null,
            "border": null,
            "bottom": null,
            "display": null,
            "flex": null,
            "flex_flow": null,
            "grid_area": null,
            "grid_auto_columns": null,
            "grid_auto_flow": null,
            "grid_auto_rows": null,
            "grid_column": null,
            "grid_gap": null,
            "grid_row": null,
            "grid_template_areas": null,
            "grid_template_columns": null,
            "grid_template_rows": null,
            "height": null,
            "justify_content": null,
            "justify_items": null,
            "left": null,
            "margin": null,
            "max_height": null,
            "max_width": null,
            "min_height": null,
            "min_width": null,
            "object_fit": null,
            "object_position": null,
            "order": null,
            "overflow": null,
            "overflow_x": null,
            "overflow_y": null,
            "padding": null,
            "right": null,
            "top": null,
            "visibility": null,
            "width": null
          }
        },
        "6e0ca8db40cd43a1bce51e0cd164dba3": {
          "model_module": "@jupyter-widgets/controls",
          "model_name": "DescriptionStyleModel",
          "model_module_version": "1.5.0",
          "state": {
            "_model_module": "@jupyter-widgets/controls",
            "_model_module_version": "1.5.0",
            "_model_name": "DescriptionStyleModel",
            "_view_count": null,
            "_view_module": "@jupyter-widgets/base",
            "_view_module_version": "1.2.0",
            "_view_name": "StyleView",
            "description_width": ""
          }
        },
        "d2dcf347ac214dcc9169b59e054cb246": {
          "model_module": "@jupyter-widgets/controls",
          "model_name": "HBoxModel",
          "model_module_version": "1.5.0",
          "state": {
            "_dom_classes": [],
            "_model_module": "@jupyter-widgets/controls",
            "_model_module_version": "1.5.0",
            "_model_name": "HBoxModel",
            "_view_count": null,
            "_view_module": "@jupyter-widgets/controls",
            "_view_module_version": "1.5.0",
            "_view_name": "HBoxView",
            "box_style": "",
            "children": [
              "IPY_MODEL_98fe9f9fea5040a697e96b49dc0063ca",
              "IPY_MODEL_0e32e44394994ec99704232003ea9040",
              "IPY_MODEL_1ee88a51e550482dacd7535ce7ae38ba"
            ],
            "layout": "IPY_MODEL_c5bd10856c8d479a89984ece3a33c0fb"
          }
        },
        "98fe9f9fea5040a697e96b49dc0063ca": {
          "model_module": "@jupyter-widgets/controls",
          "model_name": "HTMLModel",
          "model_module_version": "1.5.0",
          "state": {
            "_dom_classes": [],
            "_model_module": "@jupyter-widgets/controls",
            "_model_module_version": "1.5.0",
            "_model_name": "HTMLModel",
            "_view_count": null,
            "_view_module": "@jupyter-widgets/controls",
            "_view_module_version": "1.5.0",
            "_view_name": "HTMLView",
            "description": "",
            "description_tooltip": null,
            "layout": "IPY_MODEL_25407f06ba8f468e97fd8c6407889958",
            "placeholder": "​",
            "style": "IPY_MODEL_caaebaba971943ee8c7281fa88032454",
            "value": "Batches: 100%"
          }
        },
        "0e32e44394994ec99704232003ea9040": {
          "model_module": "@jupyter-widgets/controls",
          "model_name": "FloatProgressModel",
          "model_module_version": "1.5.0",
          "state": {
            "_dom_classes": [],
            "_model_module": "@jupyter-widgets/controls",
            "_model_module_version": "1.5.0",
            "_model_name": "FloatProgressModel",
            "_view_count": null,
            "_view_module": "@jupyter-widgets/controls",
            "_view_module_version": "1.5.0",
            "_view_name": "ProgressView",
            "bar_style": "success",
            "description": "",
            "description_tooltip": null,
            "layout": "IPY_MODEL_582b8e4bc07841818a779708071229db",
            "max": 17196,
            "min": 0,
            "orientation": "horizontal",
            "style": "IPY_MODEL_ac2ce5412ffd4271b68f13a43a519157",
            "value": 17196
          }
        },
        "1ee88a51e550482dacd7535ce7ae38ba": {
          "model_module": "@jupyter-widgets/controls",
          "model_name": "HTMLModel",
          "model_module_version": "1.5.0",
          "state": {
            "_dom_classes": [],
            "_model_module": "@jupyter-widgets/controls",
            "_model_module_version": "1.5.0",
            "_model_name": "HTMLModel",
            "_view_count": null,
            "_view_module": "@jupyter-widgets/controls",
            "_view_module_version": "1.5.0",
            "_view_name": "HTMLView",
            "description": "",
            "description_tooltip": null,
            "layout": "IPY_MODEL_7db5c0025bd2448fa1c7af9cc83f834d",
            "placeholder": "​",
            "style": "IPY_MODEL_21da5941cd794f97a09f9e3e806dfaac",
            "value": " 17196/17196 [02:21&lt;00:00, 147.04it/s]"
          }
        },
        "c5bd10856c8d479a89984ece3a33c0fb": {
          "model_module": "@jupyter-widgets/base",
          "model_name": "LayoutModel",
          "model_module_version": "1.2.0",
          "state": {
            "_model_module": "@jupyter-widgets/base",
            "_model_module_version": "1.2.0",
            "_model_name": "LayoutModel",
            "_view_count": null,
            "_view_module": "@jupyter-widgets/base",
            "_view_module_version": "1.2.0",
            "_view_name": "LayoutView",
            "align_content": null,
            "align_items": null,
            "align_self": null,
            "border": null,
            "bottom": null,
            "display": null,
            "flex": null,
            "flex_flow": null,
            "grid_area": null,
            "grid_auto_columns": null,
            "grid_auto_flow": null,
            "grid_auto_rows": null,
            "grid_column": null,
            "grid_gap": null,
            "grid_row": null,
            "grid_template_areas": null,
            "grid_template_columns": null,
            "grid_template_rows": null,
            "height": null,
            "justify_content": null,
            "justify_items": null,
            "left": null,
            "margin": null,
            "max_height": null,
            "max_width": null,
            "min_height": null,
            "min_width": null,
            "object_fit": null,
            "object_position": null,
            "order": null,
            "overflow": null,
            "overflow_x": null,
            "overflow_y": null,
            "padding": null,
            "right": null,
            "top": null,
            "visibility": null,
            "width": null
          }
        },
        "25407f06ba8f468e97fd8c6407889958": {
          "model_module": "@jupyter-widgets/base",
          "model_name": "LayoutModel",
          "model_module_version": "1.2.0",
          "state": {
            "_model_module": "@jupyter-widgets/base",
            "_model_module_version": "1.2.0",
            "_model_name": "LayoutModel",
            "_view_count": null,
            "_view_module": "@jupyter-widgets/base",
            "_view_module_version": "1.2.0",
            "_view_name": "LayoutView",
            "align_content": null,
            "align_items": null,
            "align_self": null,
            "border": null,
            "bottom": null,
            "display": null,
            "flex": null,
            "flex_flow": null,
            "grid_area": null,
            "grid_auto_columns": null,
            "grid_auto_flow": null,
            "grid_auto_rows": null,
            "grid_column": null,
            "grid_gap": null,
            "grid_row": null,
            "grid_template_areas": null,
            "grid_template_columns": null,
            "grid_template_rows": null,
            "height": null,
            "justify_content": null,
            "justify_items": null,
            "left": null,
            "margin": null,
            "max_height": null,
            "max_width": null,
            "min_height": null,
            "min_width": null,
            "object_fit": null,
            "object_position": null,
            "order": null,
            "overflow": null,
            "overflow_x": null,
            "overflow_y": null,
            "padding": null,
            "right": null,
            "top": null,
            "visibility": null,
            "width": null
          }
        },
        "caaebaba971943ee8c7281fa88032454": {
          "model_module": "@jupyter-widgets/controls",
          "model_name": "DescriptionStyleModel",
          "model_module_version": "1.5.0",
          "state": {
            "_model_module": "@jupyter-widgets/controls",
            "_model_module_version": "1.5.0",
            "_model_name": "DescriptionStyleModel",
            "_view_count": null,
            "_view_module": "@jupyter-widgets/base",
            "_view_module_version": "1.2.0",
            "_view_name": "StyleView",
            "description_width": ""
          }
        },
        "582b8e4bc07841818a779708071229db": {
          "model_module": "@jupyter-widgets/base",
          "model_name": "LayoutModel",
          "model_module_version": "1.2.0",
          "state": {
            "_model_module": "@jupyter-widgets/base",
            "_model_module_version": "1.2.0",
            "_model_name": "LayoutModel",
            "_view_count": null,
            "_view_module": "@jupyter-widgets/base",
            "_view_module_version": "1.2.0",
            "_view_name": "LayoutView",
            "align_content": null,
            "align_items": null,
            "align_self": null,
            "border": null,
            "bottom": null,
            "display": null,
            "flex": null,
            "flex_flow": null,
            "grid_area": null,
            "grid_auto_columns": null,
            "grid_auto_flow": null,
            "grid_auto_rows": null,
            "grid_column": null,
            "grid_gap": null,
            "grid_row": null,
            "grid_template_areas": null,
            "grid_template_columns": null,
            "grid_template_rows": null,
            "height": null,
            "justify_content": null,
            "justify_items": null,
            "left": null,
            "margin": null,
            "max_height": null,
            "max_width": null,
            "min_height": null,
            "min_width": null,
            "object_fit": null,
            "object_position": null,
            "order": null,
            "overflow": null,
            "overflow_x": null,
            "overflow_y": null,
            "padding": null,
            "right": null,
            "top": null,
            "visibility": null,
            "width": null
          }
        },
        "ac2ce5412ffd4271b68f13a43a519157": {
          "model_module": "@jupyter-widgets/controls",
          "model_name": "ProgressStyleModel",
          "model_module_version": "1.5.0",
          "state": {
            "_model_module": "@jupyter-widgets/controls",
            "_model_module_version": "1.5.0",
            "_model_name": "ProgressStyleModel",
            "_view_count": null,
            "_view_module": "@jupyter-widgets/base",
            "_view_module_version": "1.2.0",
            "_view_name": "StyleView",
            "bar_color": null,
            "description_width": ""
          }
        },
        "7db5c0025bd2448fa1c7af9cc83f834d": {
          "model_module": "@jupyter-widgets/base",
          "model_name": "LayoutModel",
          "model_module_version": "1.2.0",
          "state": {
            "_model_module": "@jupyter-widgets/base",
            "_model_module_version": "1.2.0",
            "_model_name": "LayoutModel",
            "_view_count": null,
            "_view_module": "@jupyter-widgets/base",
            "_view_module_version": "1.2.0",
            "_view_name": "LayoutView",
            "align_content": null,
            "align_items": null,
            "align_self": null,
            "border": null,
            "bottom": null,
            "display": null,
            "flex": null,
            "flex_flow": null,
            "grid_area": null,
            "grid_auto_columns": null,
            "grid_auto_flow": null,
            "grid_auto_rows": null,
            "grid_column": null,
            "grid_gap": null,
            "grid_row": null,
            "grid_template_areas": null,
            "grid_template_columns": null,
            "grid_template_rows": null,
            "height": null,
            "justify_content": null,
            "justify_items": null,
            "left": null,
            "margin": null,
            "max_height": null,
            "max_width": null,
            "min_height": null,
            "min_width": null,
            "object_fit": null,
            "object_position": null,
            "order": null,
            "overflow": null,
            "overflow_x": null,
            "overflow_y": null,
            "padding": null,
            "right": null,
            "top": null,
            "visibility": null,
            "width": null
          }
        },
        "21da5941cd794f97a09f9e3e806dfaac": {
          "model_module": "@jupyter-widgets/controls",
          "model_name": "DescriptionStyleModel",
          "model_module_version": "1.5.0",
          "state": {
            "_model_module": "@jupyter-widgets/controls",
            "_model_module_version": "1.5.0",
            "_model_name": "DescriptionStyleModel",
            "_view_count": null,
            "_view_module": "@jupyter-widgets/base",
            "_view_module_version": "1.2.0",
            "_view_name": "StyleView",
            "description_width": ""
          }
        },
        "c78aff714ad745348f9529ee3f3f39b7": {
          "model_module": "@jupyter-widgets/controls",
          "model_name": "HBoxModel",
          "model_module_version": "1.5.0",
          "state": {
            "_dom_classes": [],
            "_model_module": "@jupyter-widgets/controls",
            "_model_module_version": "1.5.0",
            "_model_name": "HBoxModel",
            "_view_count": null,
            "_view_module": "@jupyter-widgets/controls",
            "_view_module_version": "1.5.0",
            "_view_name": "HBoxView",
            "box_style": "",
            "children": [
              "IPY_MODEL_c388c082c6af4c53b3906679ca2fb3c3",
              "IPY_MODEL_4471045c66a043ce858db0fd533efa2e",
              "IPY_MODEL_c8819e61e5354caf98127af9b6b97524"
            ],
            "layout": "IPY_MODEL_c015c58b75894755916ba763e6df0c52"
          }
        },
        "c388c082c6af4c53b3906679ca2fb3c3": {
          "model_module": "@jupyter-widgets/controls",
          "model_name": "HTMLModel",
          "model_module_version": "1.5.0",
          "state": {
            "_dom_classes": [],
            "_model_module": "@jupyter-widgets/controls",
            "_model_module_version": "1.5.0",
            "_model_name": "HTMLModel",
            "_view_count": null,
            "_view_module": "@jupyter-widgets/controls",
            "_view_module_version": "1.5.0",
            "_view_name": "HTMLView",
            "description": "",
            "description_tooltip": null,
            "layout": "IPY_MODEL_8b1fb780b7db4e219ec96fe557385048",
            "placeholder": "​",
            "style": "IPY_MODEL_bb7e74e4350641c1abae265ad180535e",
            "value": "Batches: 100%"
          }
        },
        "4471045c66a043ce858db0fd533efa2e": {
          "model_module": "@jupyter-widgets/controls",
          "model_name": "FloatProgressModel",
          "model_module_version": "1.5.0",
          "state": {
            "_dom_classes": [],
            "_model_module": "@jupyter-widgets/controls",
            "_model_module_version": "1.5.0",
            "_model_name": "FloatProgressModel",
            "_view_count": null,
            "_view_module": "@jupyter-widgets/controls",
            "_view_module_version": "1.5.0",
            "_view_name": "ProgressView",
            "bar_style": "success",
            "description": "",
            "description_tooltip": null,
            "layout": "IPY_MODEL_44a243b148354a26a644711c5cf76cc5",
            "max": 17196,
            "min": 0,
            "orientation": "horizontal",
            "style": "IPY_MODEL_a67f930c707f4400857d361577427f50",
            "value": 17196
          }
        },
        "c8819e61e5354caf98127af9b6b97524": {
          "model_module": "@jupyter-widgets/controls",
          "model_name": "HTMLModel",
          "model_module_version": "1.5.0",
          "state": {
            "_dom_classes": [],
            "_model_module": "@jupyter-widgets/controls",
            "_model_module_version": "1.5.0",
            "_model_name": "HTMLModel",
            "_view_count": null,
            "_view_module": "@jupyter-widgets/controls",
            "_view_module_version": "1.5.0",
            "_view_name": "HTMLView",
            "description": "",
            "description_tooltip": null,
            "layout": "IPY_MODEL_c5d21e3b80ab44e787250a9acede6d20",
            "placeholder": "​",
            "style": "IPY_MODEL_c27069f277c6477591cd6bd4a4519516",
            "value": " 17196/17196 [02:41&lt;00:00, 145.39it/s]"
          }
        },
        "c015c58b75894755916ba763e6df0c52": {
          "model_module": "@jupyter-widgets/base",
          "model_name": "LayoutModel",
          "model_module_version": "1.2.0",
          "state": {
            "_model_module": "@jupyter-widgets/base",
            "_model_module_version": "1.2.0",
            "_model_name": "LayoutModel",
            "_view_count": null,
            "_view_module": "@jupyter-widgets/base",
            "_view_module_version": "1.2.0",
            "_view_name": "LayoutView",
            "align_content": null,
            "align_items": null,
            "align_self": null,
            "border": null,
            "bottom": null,
            "display": null,
            "flex": null,
            "flex_flow": null,
            "grid_area": null,
            "grid_auto_columns": null,
            "grid_auto_flow": null,
            "grid_auto_rows": null,
            "grid_column": null,
            "grid_gap": null,
            "grid_row": null,
            "grid_template_areas": null,
            "grid_template_columns": null,
            "grid_template_rows": null,
            "height": null,
            "justify_content": null,
            "justify_items": null,
            "left": null,
            "margin": null,
            "max_height": null,
            "max_width": null,
            "min_height": null,
            "min_width": null,
            "object_fit": null,
            "object_position": null,
            "order": null,
            "overflow": null,
            "overflow_x": null,
            "overflow_y": null,
            "padding": null,
            "right": null,
            "top": null,
            "visibility": null,
            "width": null
          }
        },
        "8b1fb780b7db4e219ec96fe557385048": {
          "model_module": "@jupyter-widgets/base",
          "model_name": "LayoutModel",
          "model_module_version": "1.2.0",
          "state": {
            "_model_module": "@jupyter-widgets/base",
            "_model_module_version": "1.2.0",
            "_model_name": "LayoutModel",
            "_view_count": null,
            "_view_module": "@jupyter-widgets/base",
            "_view_module_version": "1.2.0",
            "_view_name": "LayoutView",
            "align_content": null,
            "align_items": null,
            "align_self": null,
            "border": null,
            "bottom": null,
            "display": null,
            "flex": null,
            "flex_flow": null,
            "grid_area": null,
            "grid_auto_columns": null,
            "grid_auto_flow": null,
            "grid_auto_rows": null,
            "grid_column": null,
            "grid_gap": null,
            "grid_row": null,
            "grid_template_areas": null,
            "grid_template_columns": null,
            "grid_template_rows": null,
            "height": null,
            "justify_content": null,
            "justify_items": null,
            "left": null,
            "margin": null,
            "max_height": null,
            "max_width": null,
            "min_height": null,
            "min_width": null,
            "object_fit": null,
            "object_position": null,
            "order": null,
            "overflow": null,
            "overflow_x": null,
            "overflow_y": null,
            "padding": null,
            "right": null,
            "top": null,
            "visibility": null,
            "width": null
          }
        },
        "bb7e74e4350641c1abae265ad180535e": {
          "model_module": "@jupyter-widgets/controls",
          "model_name": "DescriptionStyleModel",
          "model_module_version": "1.5.0",
          "state": {
            "_model_module": "@jupyter-widgets/controls",
            "_model_module_version": "1.5.0",
            "_model_name": "DescriptionStyleModel",
            "_view_count": null,
            "_view_module": "@jupyter-widgets/base",
            "_view_module_version": "1.2.0",
            "_view_name": "StyleView",
            "description_width": ""
          }
        },
        "44a243b148354a26a644711c5cf76cc5": {
          "model_module": "@jupyter-widgets/base",
          "model_name": "LayoutModel",
          "model_module_version": "1.2.0",
          "state": {
            "_model_module": "@jupyter-widgets/base",
            "_model_module_version": "1.2.0",
            "_model_name": "LayoutModel",
            "_view_count": null,
            "_view_module": "@jupyter-widgets/base",
            "_view_module_version": "1.2.0",
            "_view_name": "LayoutView",
            "align_content": null,
            "align_items": null,
            "align_self": null,
            "border": null,
            "bottom": null,
            "display": null,
            "flex": null,
            "flex_flow": null,
            "grid_area": null,
            "grid_auto_columns": null,
            "grid_auto_flow": null,
            "grid_auto_rows": null,
            "grid_column": null,
            "grid_gap": null,
            "grid_row": null,
            "grid_template_areas": null,
            "grid_template_columns": null,
            "grid_template_rows": null,
            "height": null,
            "justify_content": null,
            "justify_items": null,
            "left": null,
            "margin": null,
            "max_height": null,
            "max_width": null,
            "min_height": null,
            "min_width": null,
            "object_fit": null,
            "object_position": null,
            "order": null,
            "overflow": null,
            "overflow_x": null,
            "overflow_y": null,
            "padding": null,
            "right": null,
            "top": null,
            "visibility": null,
            "width": null
          }
        },
        "a67f930c707f4400857d361577427f50": {
          "model_module": "@jupyter-widgets/controls",
          "model_name": "ProgressStyleModel",
          "model_module_version": "1.5.0",
          "state": {
            "_model_module": "@jupyter-widgets/controls",
            "_model_module_version": "1.5.0",
            "_model_name": "ProgressStyleModel",
            "_view_count": null,
            "_view_module": "@jupyter-widgets/base",
            "_view_module_version": "1.2.0",
            "_view_name": "StyleView",
            "bar_color": null,
            "description_width": ""
          }
        },
        "c5d21e3b80ab44e787250a9acede6d20": {
          "model_module": "@jupyter-widgets/base",
          "model_name": "LayoutModel",
          "model_module_version": "1.2.0",
          "state": {
            "_model_module": "@jupyter-widgets/base",
            "_model_module_version": "1.2.0",
            "_model_name": "LayoutModel",
            "_view_count": null,
            "_view_module": "@jupyter-widgets/base",
            "_view_module_version": "1.2.0",
            "_view_name": "LayoutView",
            "align_content": null,
            "align_items": null,
            "align_self": null,
            "border": null,
            "bottom": null,
            "display": null,
            "flex": null,
            "flex_flow": null,
            "grid_area": null,
            "grid_auto_columns": null,
            "grid_auto_flow": null,
            "grid_auto_rows": null,
            "grid_column": null,
            "grid_gap": null,
            "grid_row": null,
            "grid_template_areas": null,
            "grid_template_columns": null,
            "grid_template_rows": null,
            "height": null,
            "justify_content": null,
            "justify_items": null,
            "left": null,
            "margin": null,
            "max_height": null,
            "max_width": null,
            "min_height": null,
            "min_width": null,
            "object_fit": null,
            "object_position": null,
            "order": null,
            "overflow": null,
            "overflow_x": null,
            "overflow_y": null,
            "padding": null,
            "right": null,
            "top": null,
            "visibility": null,
            "width": null
          }
        },
        "c27069f277c6477591cd6bd4a4519516": {
          "model_module": "@jupyter-widgets/controls",
          "model_name": "DescriptionStyleModel",
          "model_module_version": "1.5.0",
          "state": {
            "_model_module": "@jupyter-widgets/controls",
            "_model_module_version": "1.5.0",
            "_model_name": "DescriptionStyleModel",
            "_view_count": null,
            "_view_module": "@jupyter-widgets/base",
            "_view_module_version": "1.2.0",
            "_view_name": "StyleView",
            "description_width": ""
          }
        }
      }
    }
  },
  "nbformat": 4,
  "nbformat_minor": 0
}