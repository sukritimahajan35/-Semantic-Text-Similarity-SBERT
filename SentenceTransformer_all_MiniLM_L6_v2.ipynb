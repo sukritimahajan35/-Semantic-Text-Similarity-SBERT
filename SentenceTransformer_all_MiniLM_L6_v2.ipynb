{
  "nbformat": 4,
  "nbformat_minor": 0,
  "metadata": {
    "colab": {
      "provenance": [],
      "gpuType": "T4",
      "authorship_tag": "ABX9TyPQJ3bIuLr2mUpvLRi8/82D",
      "include_colab_link": true
    },
    "kernelspec": {
      "name": "python3",
      "display_name": "Python 3"
    },
    "language_info": {
      "name": "python"
    },
    "accelerator": "GPU",
    "widgets": {
      "application/vnd.jupyter.widget-state+json": {
        "743be75927fc4ade89ca56e580f7adbf": {
          "model_module": "@jupyter-widgets/controls",
          "model_name": "HBoxModel",
          "model_module_version": "1.5.0",
          "state": {
            "_dom_classes": [],
            "_model_module": "@jupyter-widgets/controls",
            "_model_module_version": "1.5.0",
            "_model_name": "HBoxModel",
            "_view_count": null,
            "_view_module": "@jupyter-widgets/controls",
            "_view_module_version": "1.5.0",
            "_view_name": "HBoxView",
            "box_style": "",
            "children": [
              "IPY_MODEL_72bc7ed99a5f4177b76c78a41e8d89ac",
              "IPY_MODEL_85038de4fe69494dac9b9878f6b84442",
              "IPY_MODEL_de812b67a4424982b09d238f49a04210"
            ],
            "layout": "IPY_MODEL_9e139f6286324a658646b597e0934c71"
          }
        },
        "72bc7ed99a5f4177b76c78a41e8d89ac": {
          "model_module": "@jupyter-widgets/controls",
          "model_name": "HTMLModel",
          "model_module_version": "1.5.0",
          "state": {
            "_dom_classes": [],
            "_model_module": "@jupyter-widgets/controls",
            "_model_module_version": "1.5.0",
            "_model_name": "HTMLModel",
            "_view_count": null,
            "_view_module": "@jupyter-widgets/controls",
            "_view_module_version": "1.5.0",
            "_view_name": "HTMLView",
            "description": "",
            "description_tooltip": null,
            "layout": "IPY_MODEL_0c4187d56c3a4a7baeddcab21279ba3f",
            "placeholder": "​",
            "style": "IPY_MODEL_1b25d3d20601402d8bb1b26a0e440fbe",
            "value": "Batches: 100%"
          }
        },
        "85038de4fe69494dac9b9878f6b84442": {
          "model_module": "@jupyter-widgets/controls",
          "model_name": "FloatProgressModel",
          "model_module_version": "1.5.0",
          "state": {
            "_dom_classes": [],
            "_model_module": "@jupyter-widgets/controls",
            "_model_module_version": "1.5.0",
            "_model_name": "FloatProgressModel",
            "_view_count": null,
            "_view_module": "@jupyter-widgets/controls",
            "_view_module_version": "1.5.0",
            "_view_name": "ProgressView",
            "bar_style": "success",
            "description": "",
            "description_tooltip": null,
            "layout": "IPY_MODEL_557b29bb2e1c47b5ae056749066c0db8",
            "max": 17196,
            "min": 0,
            "orientation": "horizontal",
            "style": "IPY_MODEL_b6a18fdc8976429da8562b1cdac060d4",
            "value": 17196
          }
        },
        "de812b67a4424982b09d238f49a04210": {
          "model_module": "@jupyter-widgets/controls",
          "model_name": "HTMLModel",
          "model_module_version": "1.5.0",
          "state": {
            "_dom_classes": [],
            "_model_module": "@jupyter-widgets/controls",
            "_model_module_version": "1.5.0",
            "_model_name": "HTMLModel",
            "_view_count": null,
            "_view_module": "@jupyter-widgets/controls",
            "_view_module_version": "1.5.0",
            "_view_name": "HTMLView",
            "description": "",
            "description_tooltip": null,
            "layout": "IPY_MODEL_35bd397e8f9940cc91493f3081c81c98",
            "placeholder": "​",
            "style": "IPY_MODEL_7df0e4b8d5f8422088329fad08cd029b",
            "value": " 17196/17196 [02:40&lt;00:00, 141.51it/s]"
          }
        },
        "9e139f6286324a658646b597e0934c71": {
          "model_module": "@jupyter-widgets/base",
          "model_name": "LayoutModel",
          "model_module_version": "1.2.0",
          "state": {
            "_model_module": "@jupyter-widgets/base",
            "_model_module_version": "1.2.0",
            "_model_name": "LayoutModel",
            "_view_count": null,
            "_view_module": "@jupyter-widgets/base",
            "_view_module_version": "1.2.0",
            "_view_name": "LayoutView",
            "align_content": null,
            "align_items": null,
            "align_self": null,
            "border": null,
            "bottom": null,
            "display": null,
            "flex": null,
            "flex_flow": null,
            "grid_area": null,
            "grid_auto_columns": null,
            "grid_auto_flow": null,
            "grid_auto_rows": null,
            "grid_column": null,
            "grid_gap": null,
            "grid_row": null,
            "grid_template_areas": null,
            "grid_template_columns": null,
            "grid_template_rows": null,
            "height": null,
            "justify_content": null,
            "justify_items": null,
            "left": null,
            "margin": null,
            "max_height": null,
            "max_width": null,
            "min_height": null,
            "min_width": null,
            "object_fit": null,
            "object_position": null,
            "order": null,
            "overflow": null,
            "overflow_x": null,
            "overflow_y": null,
            "padding": null,
            "right": null,
            "top": null,
            "visibility": null,
            "width": null
          }
        },
        "0c4187d56c3a4a7baeddcab21279ba3f": {
          "model_module": "@jupyter-widgets/base",
          "model_name": "LayoutModel",
          "model_module_version": "1.2.0",
          "state": {
            "_model_module": "@jupyter-widgets/base",
            "_model_module_version": "1.2.0",
            "_model_name": "LayoutModel",
            "_view_count": null,
            "_view_module": "@jupyter-widgets/base",
            "_view_module_version": "1.2.0",
            "_view_name": "LayoutView",
            "align_content": null,
            "align_items": null,
            "align_self": null,
            "border": null,
            "bottom": null,
            "display": null,
            "flex": null,
            "flex_flow": null,
            "grid_area": null,
            "grid_auto_columns": null,
            "grid_auto_flow": null,
            "grid_auto_rows": null,
            "grid_column": null,
            "grid_gap": null,
            "grid_row": null,
            "grid_template_areas": null,
            "grid_template_columns": null,
            "grid_template_rows": null,
            "height": null,
            "justify_content": null,
            "justify_items": null,
            "left": null,
            "margin": null,
            "max_height": null,
            "max_width": null,
            "min_height": null,
            "min_width": null,
            "object_fit": null,
            "object_position": null,
            "order": null,
            "overflow": null,
            "overflow_x": null,
            "overflow_y": null,
            "padding": null,
            "right": null,
            "top": null,
            "visibility": null,
            "width": null
          }
        },
        "1b25d3d20601402d8bb1b26a0e440fbe": {
          "model_module": "@jupyter-widgets/controls",
          "model_name": "DescriptionStyleModel",
          "model_module_version": "1.5.0",
          "state": {
            "_model_module": "@jupyter-widgets/controls",
            "_model_module_version": "1.5.0",
            "_model_name": "DescriptionStyleModel",
            "_view_count": null,
            "_view_module": "@jupyter-widgets/base",
            "_view_module_version": "1.2.0",
            "_view_name": "StyleView",
            "description_width": ""
          }
        },
        "557b29bb2e1c47b5ae056749066c0db8": {
          "model_module": "@jupyter-widgets/base",
          "model_name": "LayoutModel",
          "model_module_version": "1.2.0",
          "state": {
            "_model_module": "@jupyter-widgets/base",
            "_model_module_version": "1.2.0",
            "_model_name": "LayoutModel",
            "_view_count": null,
            "_view_module": "@jupyter-widgets/base",
            "_view_module_version": "1.2.0",
            "_view_name": "LayoutView",
            "align_content": null,
            "align_items": null,
            "align_self": null,
            "border": null,
            "bottom": null,
            "display": null,
            "flex": null,
            "flex_flow": null,
            "grid_area": null,
            "grid_auto_columns": null,
            "grid_auto_flow": null,
            "grid_auto_rows": null,
            "grid_column": null,
            "grid_gap": null,
            "grid_row": null,
            "grid_template_areas": null,
            "grid_template_columns": null,
            "grid_template_rows": null,
            "height": null,
            "justify_content": null,
            "justify_items": null,
            "left": null,
            "margin": null,
            "max_height": null,
            "max_width": null,
            "min_height": null,
            "min_width": null,
            "object_fit": null,
            "object_position": null,
            "order": null,
            "overflow": null,
            "overflow_x": null,
            "overflow_y": null,
            "padding": null,
            "right": null,
            "top": null,
            "visibility": null,
            "width": null
          }
        },
        "b6a18fdc8976429da8562b1cdac060d4": {
          "model_module": "@jupyter-widgets/controls",
          "model_name": "ProgressStyleModel",
          "model_module_version": "1.5.0",
          "state": {
            "_model_module": "@jupyter-widgets/controls",
            "_model_module_version": "1.5.0",
            "_model_name": "ProgressStyleModel",
            "_view_count": null,
            "_view_module": "@jupyter-widgets/base",
            "_view_module_version": "1.2.0",
            "_view_name": "StyleView",
            "bar_color": null,
            "description_width": ""
          }
        },
        "35bd397e8f9940cc91493f3081c81c98": {
          "model_module": "@jupyter-widgets/base",
          "model_name": "LayoutModel",
          "model_module_version": "1.2.0",
          "state": {
            "_model_module": "@jupyter-widgets/base",
            "_model_module_version": "1.2.0",
            "_model_name": "LayoutModel",
            "_view_count": null,
            "_view_module": "@jupyter-widgets/base",
            "_view_module_version": "1.2.0",
            "_view_name": "LayoutView",
            "align_content": null,
            "align_items": null,
            "align_self": null,
            "border": null,
            "bottom": null,
            "display": null,
            "flex": null,
            "flex_flow": null,
            "grid_area": null,
            "grid_auto_columns": null,
            "grid_auto_flow": null,
            "grid_auto_rows": null,
            "grid_column": null,
            "grid_gap": null,
            "grid_row": null,
            "grid_template_areas": null,
            "grid_template_columns": null,
            "grid_template_rows": null,
            "height": null,
            "justify_content": null,
            "justify_items": null,
            "left": null,
            "margin": null,
            "max_height": null,
            "max_width": null,
            "min_height": null,
            "min_width": null,
            "object_fit": null,
            "object_position": null,
            "order": null,
            "overflow": null,
            "overflow_x": null,
            "overflow_y": null,
            "padding": null,
            "right": null,
            "top": null,
            "visibility": null,
            "width": null
          }
        },
        "7df0e4b8d5f8422088329fad08cd029b": {
          "model_module": "@jupyter-widgets/controls",
          "model_name": "DescriptionStyleModel",
          "model_module_version": "1.5.0",
          "state": {
            "_model_module": "@jupyter-widgets/controls",
            "_model_module_version": "1.5.0",
            "_model_name": "DescriptionStyleModel",
            "_view_count": null,
            "_view_module": "@jupyter-widgets/base",
            "_view_module_version": "1.2.0",
            "_view_name": "StyleView",
            "description_width": ""
          }
        },
        "20cbcf4276bd4a8d99685dff5f5bc2f0": {
          "model_module": "@jupyter-widgets/controls",
          "model_name": "HBoxModel",
          "model_module_version": "1.5.0",
          "state": {
            "_dom_classes": [],
            "_model_module": "@jupyter-widgets/controls",
            "_model_module_version": "1.5.0",
            "_model_name": "HBoxModel",
            "_view_count": null,
            "_view_module": "@jupyter-widgets/controls",
            "_view_module_version": "1.5.0",
            "_view_name": "HBoxView",
            "box_style": "",
            "children": [
              "IPY_MODEL_20dd4bceedb6401d8d18b56b334ddf78",
              "IPY_MODEL_098383777da44bd5a8c3fd0a01567ebd",
              "IPY_MODEL_b21d4a1cc7d7433b864aa0ca35950457"
            ],
            "layout": "IPY_MODEL_4e02753299924f34874a603dd3cf5814"
          }
        },
        "20dd4bceedb6401d8d18b56b334ddf78": {
          "model_module": "@jupyter-widgets/controls",
          "model_name": "HTMLModel",
          "model_module_version": "1.5.0",
          "state": {
            "_dom_classes": [],
            "_model_module": "@jupyter-widgets/controls",
            "_model_module_version": "1.5.0",
            "_model_name": "HTMLModel",
            "_view_count": null,
            "_view_module": "@jupyter-widgets/controls",
            "_view_module_version": "1.5.0",
            "_view_name": "HTMLView",
            "description": "",
            "description_tooltip": null,
            "layout": "IPY_MODEL_65d27b9e346647cfa40fa8b5dc29b7d8",
            "placeholder": "​",
            "style": "IPY_MODEL_6c38d942bffa4ee3821bff4ed98ad872",
            "value": "Batches: 100%"
          }
        },
        "098383777da44bd5a8c3fd0a01567ebd": {
          "model_module": "@jupyter-widgets/controls",
          "model_name": "FloatProgressModel",
          "model_module_version": "1.5.0",
          "state": {
            "_dom_classes": [],
            "_model_module": "@jupyter-widgets/controls",
            "_model_module_version": "1.5.0",
            "_model_name": "FloatProgressModel",
            "_view_count": null,
            "_view_module": "@jupyter-widgets/controls",
            "_view_module_version": "1.5.0",
            "_view_name": "ProgressView",
            "bar_style": "success",
            "description": "",
            "description_tooltip": null,
            "layout": "IPY_MODEL_6cdc1e15bc4e4b11998f060e24527c91",
            "max": 17196,
            "min": 0,
            "orientation": "horizontal",
            "style": "IPY_MODEL_66a8e7489e864fc1aa1ae1b6b2ab2740",
            "value": 17196
          }
        },
        "b21d4a1cc7d7433b864aa0ca35950457": {
          "model_module": "@jupyter-widgets/controls",
          "model_name": "HTMLModel",
          "model_module_version": "1.5.0",
          "state": {
            "_dom_classes": [],
            "_model_module": "@jupyter-widgets/controls",
            "_model_module_version": "1.5.0",
            "_model_name": "HTMLModel",
            "_view_count": null,
            "_view_module": "@jupyter-widgets/controls",
            "_view_module_version": "1.5.0",
            "_view_name": "HTMLView",
            "description": "",
            "description_tooltip": null,
            "layout": "IPY_MODEL_36c17188af694274b87b91fc980a1e48",
            "placeholder": "​",
            "style": "IPY_MODEL_727d356f63c84f50a0b7d8b75ebf2a96",
            "value": " 17196/17196 [02:20&lt;00:00, 131.08it/s]"
          }
        },
        "4e02753299924f34874a603dd3cf5814": {
          "model_module": "@jupyter-widgets/base",
          "model_name": "LayoutModel",
          "model_module_version": "1.2.0",
          "state": {
            "_model_module": "@jupyter-widgets/base",
            "_model_module_version": "1.2.0",
            "_model_name": "LayoutModel",
            "_view_count": null,
            "_view_module": "@jupyter-widgets/base",
            "_view_module_version": "1.2.0",
            "_view_name": "LayoutView",
            "align_content": null,
            "align_items": null,
            "align_self": null,
            "border": null,
            "bottom": null,
            "display": null,
            "flex": null,
            "flex_flow": null,
            "grid_area": null,
            "grid_auto_columns": null,
            "grid_auto_flow": null,
            "grid_auto_rows": null,
            "grid_column": null,
            "grid_gap": null,
            "grid_row": null,
            "grid_template_areas": null,
            "grid_template_columns": null,
            "grid_template_rows": null,
            "height": null,
            "justify_content": null,
            "justify_items": null,
            "left": null,
            "margin": null,
            "max_height": null,
            "max_width": null,
            "min_height": null,
            "min_width": null,
            "object_fit": null,
            "object_position": null,
            "order": null,
            "overflow": null,
            "overflow_x": null,
            "overflow_y": null,
            "padding": null,
            "right": null,
            "top": null,
            "visibility": null,
            "width": null
          }
        },
        "65d27b9e346647cfa40fa8b5dc29b7d8": {
          "model_module": "@jupyter-widgets/base",
          "model_name": "LayoutModel",
          "model_module_version": "1.2.0",
          "state": {
            "_model_module": "@jupyter-widgets/base",
            "_model_module_version": "1.2.0",
            "_model_name": "LayoutModel",
            "_view_count": null,
            "_view_module": "@jupyter-widgets/base",
            "_view_module_version": "1.2.0",
            "_view_name": "LayoutView",
            "align_content": null,
            "align_items": null,
            "align_self": null,
            "border": null,
            "bottom": null,
            "display": null,
            "flex": null,
            "flex_flow": null,
            "grid_area": null,
            "grid_auto_columns": null,
            "grid_auto_flow": null,
            "grid_auto_rows": null,
            "grid_column": null,
            "grid_gap": null,
            "grid_row": null,
            "grid_template_areas": null,
            "grid_template_columns": null,
            "grid_template_rows": null,
            "height": null,
            "justify_content": null,
            "justify_items": null,
            "left": null,
            "margin": null,
            "max_height": null,
            "max_width": null,
            "min_height": null,
            "min_width": null,
            "object_fit": null,
            "object_position": null,
            "order": null,
            "overflow": null,
            "overflow_x": null,
            "overflow_y": null,
            "padding": null,
            "right": null,
            "top": null,
            "visibility": null,
            "width": null
          }
        },
        "6c38d942bffa4ee3821bff4ed98ad872": {
          "model_module": "@jupyter-widgets/controls",
          "model_name": "DescriptionStyleModel",
          "model_module_version": "1.5.0",
          "state": {
            "_model_module": "@jupyter-widgets/controls",
            "_model_module_version": "1.5.0",
            "_model_name": "DescriptionStyleModel",
            "_view_count": null,
            "_view_module": "@jupyter-widgets/base",
            "_view_module_version": "1.2.0",
            "_view_name": "StyleView",
            "description_width": ""
          }
        },
        "6cdc1e15bc4e4b11998f060e24527c91": {
          "model_module": "@jupyter-widgets/base",
          "model_name": "LayoutModel",
          "model_module_version": "1.2.0",
          "state": {
            "_model_module": "@jupyter-widgets/base",
            "_model_module_version": "1.2.0",
            "_model_name": "LayoutModel",
            "_view_count": null,
            "_view_module": "@jupyter-widgets/base",
            "_view_module_version": "1.2.0",
            "_view_name": "LayoutView",
            "align_content": null,
            "align_items": null,
            "align_self": null,
            "border": null,
            "bottom": null,
            "display": null,
            "flex": null,
            "flex_flow": null,
            "grid_area": null,
            "grid_auto_columns": null,
            "grid_auto_flow": null,
            "grid_auto_rows": null,
            "grid_column": null,
            "grid_gap": null,
            "grid_row": null,
            "grid_template_areas": null,
            "grid_template_columns": null,
            "grid_template_rows": null,
            "height": null,
            "justify_content": null,
            "justify_items": null,
            "left": null,
            "margin": null,
            "max_height": null,
            "max_width": null,
            "min_height": null,
            "min_width": null,
            "object_fit": null,
            "object_position": null,
            "order": null,
            "overflow": null,
            "overflow_x": null,
            "overflow_y": null,
            "padding": null,
            "right": null,
            "top": null,
            "visibility": null,
            "width": null
          }
        },
        "66a8e7489e864fc1aa1ae1b6b2ab2740": {
          "model_module": "@jupyter-widgets/controls",
          "model_name": "ProgressStyleModel",
          "model_module_version": "1.5.0",
          "state": {
            "_model_module": "@jupyter-widgets/controls",
            "_model_module_version": "1.5.0",
            "_model_name": "ProgressStyleModel",
            "_view_count": null,
            "_view_module": "@jupyter-widgets/base",
            "_view_module_version": "1.2.0",
            "_view_name": "StyleView",
            "bar_color": null,
            "description_width": ""
          }
        },
        "36c17188af694274b87b91fc980a1e48": {
          "model_module": "@jupyter-widgets/base",
          "model_name": "LayoutModel",
          "model_module_version": "1.2.0",
          "state": {
            "_model_module": "@jupyter-widgets/base",
            "_model_module_version": "1.2.0",
            "_model_name": "LayoutModel",
            "_view_count": null,
            "_view_module": "@jupyter-widgets/base",
            "_view_module_version": "1.2.0",
            "_view_name": "LayoutView",
            "align_content": null,
            "align_items": null,
            "align_self": null,
            "border": null,
            "bottom": null,
            "display": null,
            "flex": null,
            "flex_flow": null,
            "grid_area": null,
            "grid_auto_columns": null,
            "grid_auto_flow": null,
            "grid_auto_rows": null,
            "grid_column": null,
            "grid_gap": null,
            "grid_row": null,
            "grid_template_areas": null,
            "grid_template_columns": null,
            "grid_template_rows": null,
            "height": null,
            "justify_content": null,
            "justify_items": null,
            "left": null,
            "margin": null,
            "max_height": null,
            "max_width": null,
            "min_height": null,
            "min_width": null,
            "object_fit": null,
            "object_position": null,
            "order": null,
            "overflow": null,
            "overflow_x": null,
            "overflow_y": null,
            "padding": null,
            "right": null,
            "top": null,
            "visibility": null,
            "width": null
          }
        },
        "727d356f63c84f50a0b7d8b75ebf2a96": {
          "model_module": "@jupyter-widgets/controls",
          "model_name": "DescriptionStyleModel",
          "model_module_version": "1.5.0",
          "state": {
            "_model_module": "@jupyter-widgets/controls",
            "_model_module_version": "1.5.0",
            "_model_name": "DescriptionStyleModel",
            "_view_count": null,
            "_view_module": "@jupyter-widgets/base",
            "_view_module_version": "1.2.0",
            "_view_name": "StyleView",
            "description_width": ""
          }
        },
        "b1f835d99e8b4b4ebc7477a0b57b0246": {
          "model_module": "@jupyter-widgets/controls",
          "model_name": "HBoxModel",
          "model_module_version": "1.5.0",
          "state": {
            "_dom_classes": [],
            "_model_module": "@jupyter-widgets/controls",
            "_model_module_version": "1.5.0",
            "_model_name": "HBoxModel",
            "_view_count": null,
            "_view_module": "@jupyter-widgets/controls",
            "_view_module_version": "1.5.0",
            "_view_name": "HBoxView",
            "box_style": "",
            "children": [
              "IPY_MODEL_d4ae5e1a78ee49b9bd76c8872be423ad",
              "IPY_MODEL_0b1b4710d1f041c59f00e96654f5168e",
              "IPY_MODEL_0b137613ba7d44d0ad899b68d1171600"
            ],
            "layout": "IPY_MODEL_303f4d9554bb4ab88d5624a8a1accfd7"
          }
        },
        "d4ae5e1a78ee49b9bd76c8872be423ad": {
          "model_module": "@jupyter-widgets/controls",
          "model_name": "HTMLModel",
          "model_module_version": "1.5.0",
          "state": {
            "_dom_classes": [],
            "_model_module": "@jupyter-widgets/controls",
            "_model_module_version": "1.5.0",
            "_model_name": "HTMLModel",
            "_view_count": null,
            "_view_module": "@jupyter-widgets/controls",
            "_view_module_version": "1.5.0",
            "_view_name": "HTMLView",
            "description": "",
            "description_tooltip": null,
            "layout": "IPY_MODEL_934435b2f8e04260b54e9bf4ec022672",
            "placeholder": "​",
            "style": "IPY_MODEL_c381e44c463e48b8a51b8c9c16160b2c",
            "value": "Batches: 100%"
          }
        },
        "0b1b4710d1f041c59f00e96654f5168e": {
          "model_module": "@jupyter-widgets/controls",
          "model_name": "FloatProgressModel",
          "model_module_version": "1.5.0",
          "state": {
            "_dom_classes": [],
            "_model_module": "@jupyter-widgets/controls",
            "_model_module_version": "1.5.0",
            "_model_name": "FloatProgressModel",
            "_view_count": null,
            "_view_module": "@jupyter-widgets/controls",
            "_view_module_version": "1.5.0",
            "_view_name": "ProgressView",
            "bar_style": "success",
            "description": "",
            "description_tooltip": null,
            "layout": "IPY_MODEL_0aea3a53191141518cc60d9086f3575c",
            "max": 10869,
            "min": 0,
            "orientation": "horizontal",
            "style": "IPY_MODEL_9b7d8faddfd944c28c563900bfc25ba8",
            "value": 10869
          }
        },
        "0b137613ba7d44d0ad899b68d1171600": {
          "model_module": "@jupyter-widgets/controls",
          "model_name": "HTMLModel",
          "model_module_version": "1.5.0",
          "state": {
            "_dom_classes": [],
            "_model_module": "@jupyter-widgets/controls",
            "_model_module_version": "1.5.0",
            "_model_name": "HTMLModel",
            "_view_count": null,
            "_view_module": "@jupyter-widgets/controls",
            "_view_module_version": "1.5.0",
            "_view_name": "HTMLView",
            "description": "",
            "description_tooltip": null,
            "layout": "IPY_MODEL_ab5f78e369964b409d24b4cc4356bac8",
            "placeholder": "​",
            "style": "IPY_MODEL_a79575bb4c934570abccbd57129aef61",
            "value": " 10869/10869 [01:40&lt;00:00, 139.50it/s]"
          }
        },
        "303f4d9554bb4ab88d5624a8a1accfd7": {
          "model_module": "@jupyter-widgets/base",
          "model_name": "LayoutModel",
          "model_module_version": "1.2.0",
          "state": {
            "_model_module": "@jupyter-widgets/base",
            "_model_module_version": "1.2.0",
            "_model_name": "LayoutModel",
            "_view_count": null,
            "_view_module": "@jupyter-widgets/base",
            "_view_module_version": "1.2.0",
            "_view_name": "LayoutView",
            "align_content": null,
            "align_items": null,
            "align_self": null,
            "border": null,
            "bottom": null,
            "display": null,
            "flex": null,
            "flex_flow": null,
            "grid_area": null,
            "grid_auto_columns": null,
            "grid_auto_flow": null,
            "grid_auto_rows": null,
            "grid_column": null,
            "grid_gap": null,
            "grid_row": null,
            "grid_template_areas": null,
            "grid_template_columns": null,
            "grid_template_rows": null,
            "height": null,
            "justify_content": null,
            "justify_items": null,
            "left": null,
            "margin": null,
            "max_height": null,
            "max_width": null,
            "min_height": null,
            "min_width": null,
            "object_fit": null,
            "object_position": null,
            "order": null,
            "overflow": null,
            "overflow_x": null,
            "overflow_y": null,
            "padding": null,
            "right": null,
            "top": null,
            "visibility": null,
            "width": null
          }
        },
        "934435b2f8e04260b54e9bf4ec022672": {
          "model_module": "@jupyter-widgets/base",
          "model_name": "LayoutModel",
          "model_module_version": "1.2.0",
          "state": {
            "_model_module": "@jupyter-widgets/base",
            "_model_module_version": "1.2.0",
            "_model_name": "LayoutModel",
            "_view_count": null,
            "_view_module": "@jupyter-widgets/base",
            "_view_module_version": "1.2.0",
            "_view_name": "LayoutView",
            "align_content": null,
            "align_items": null,
            "align_self": null,
            "border": null,
            "bottom": null,
            "display": null,
            "flex": null,
            "flex_flow": null,
            "grid_area": null,
            "grid_auto_columns": null,
            "grid_auto_flow": null,
            "grid_auto_rows": null,
            "grid_column": null,
            "grid_gap": null,
            "grid_row": null,
            "grid_template_areas": null,
            "grid_template_columns": null,
            "grid_template_rows": null,
            "height": null,
            "justify_content": null,
            "justify_items": null,
            "left": null,
            "margin": null,
            "max_height": null,
            "max_width": null,
            "min_height": null,
            "min_width": null,
            "object_fit": null,
            "object_position": null,
            "order": null,
            "overflow": null,
            "overflow_x": null,
            "overflow_y": null,
            "padding": null,
            "right": null,
            "top": null,
            "visibility": null,
            "width": null
          }
        },
        "c381e44c463e48b8a51b8c9c16160b2c": {
          "model_module": "@jupyter-widgets/controls",
          "model_name": "DescriptionStyleModel",
          "model_module_version": "1.5.0",
          "state": {
            "_model_module": "@jupyter-widgets/controls",
            "_model_module_version": "1.5.0",
            "_model_name": "DescriptionStyleModel",
            "_view_count": null,
            "_view_module": "@jupyter-widgets/base",
            "_view_module_version": "1.2.0",
            "_view_name": "StyleView",
            "description_width": ""
          }
        },
        "0aea3a53191141518cc60d9086f3575c": {
          "model_module": "@jupyter-widgets/base",
          "model_name": "LayoutModel",
          "model_module_version": "1.2.0",
          "state": {
            "_model_module": "@jupyter-widgets/base",
            "_model_module_version": "1.2.0",
            "_model_name": "LayoutModel",
            "_view_count": null,
            "_view_module": "@jupyter-widgets/base",
            "_view_module_version": "1.2.0",
            "_view_name": "LayoutView",
            "align_content": null,
            "align_items": null,
            "align_self": null,
            "border": null,
            "bottom": null,
            "display": null,
            "flex": null,
            "flex_flow": null,
            "grid_area": null,
            "grid_auto_columns": null,
            "grid_auto_flow": null,
            "grid_auto_rows": null,
            "grid_column": null,
            "grid_gap": null,
            "grid_row": null,
            "grid_template_areas": null,
            "grid_template_columns": null,
            "grid_template_rows": null,
            "height": null,
            "justify_content": null,
            "justify_items": null,
            "left": null,
            "margin": null,
            "max_height": null,
            "max_width": null,
            "min_height": null,
            "min_width": null,
            "object_fit": null,
            "object_position": null,
            "order": null,
            "overflow": null,
            "overflow_x": null,
            "overflow_y": null,
            "padding": null,
            "right": null,
            "top": null,
            "visibility": null,
            "width": null
          }
        },
        "9b7d8faddfd944c28c563900bfc25ba8": {
          "model_module": "@jupyter-widgets/controls",
          "model_name": "ProgressStyleModel",
          "model_module_version": "1.5.0",
          "state": {
            "_model_module": "@jupyter-widgets/controls",
            "_model_module_version": "1.5.0",
            "_model_name": "ProgressStyleModel",
            "_view_count": null,
            "_view_module": "@jupyter-widgets/base",
            "_view_module_version": "1.2.0",
            "_view_name": "StyleView",
            "bar_color": null,
            "description_width": ""
          }
        },
        "ab5f78e369964b409d24b4cc4356bac8": {
          "model_module": "@jupyter-widgets/base",
          "model_name": "LayoutModel",
          "model_module_version": "1.2.0",
          "state": {
            "_model_module": "@jupyter-widgets/base",
            "_model_module_version": "1.2.0",
            "_model_name": "LayoutModel",
            "_view_count": null,
            "_view_module": "@jupyter-widgets/base",
            "_view_module_version": "1.2.0",
            "_view_name": "LayoutView",
            "align_content": null,
            "align_items": null,
            "align_self": null,
            "border": null,
            "bottom": null,
            "display": null,
            "flex": null,
            "flex_flow": null,
            "grid_area": null,
            "grid_auto_columns": null,
            "grid_auto_flow": null,
            "grid_auto_rows": null,
            "grid_column": null,
            "grid_gap": null,
            "grid_row": null,
            "grid_template_areas": null,
            "grid_template_columns": null,
            "grid_template_rows": null,
            "height": null,
            "justify_content": null,
            "justify_items": null,
            "left": null,
            "margin": null,
            "max_height": null,
            "max_width": null,
            "min_height": null,
            "min_width": null,
            "object_fit": null,
            "object_position": null,
            "order": null,
            "overflow": null,
            "overflow_x": null,
            "overflow_y": null,
            "padding": null,
            "right": null,
            "top": null,
            "visibility": null,
            "width": null
          }
        },
        "a79575bb4c934570abccbd57129aef61": {
          "model_module": "@jupyter-widgets/controls",
          "model_name": "DescriptionStyleModel",
          "model_module_version": "1.5.0",
          "state": {
            "_model_module": "@jupyter-widgets/controls",
            "_model_module_version": "1.5.0",
            "_model_name": "DescriptionStyleModel",
            "_view_count": null,
            "_view_module": "@jupyter-widgets/base",
            "_view_module_version": "1.2.0",
            "_view_name": "StyleView",
            "description_width": ""
          }
        }
      }
    }
  },
  "cells": [
    {
      "cell_type": "markdown",
      "metadata": {
        "id": "view-in-github",
        "colab_type": "text"
      },
      "source": [
        "<a href=\"https://colab.research.google.com/github/sukritimahajan35/Semantic-Text-Similarity-SBERT/blob/main/SentenceTransformer_all_MiniLM_L6_v2.ipynb\" target=\"_parent\"><img src=\"https://colab.research.google.com/assets/colab-badge.svg\" alt=\"Open In Colab\"/></a>"
      ]
    },
    {
      "cell_type": "markdown",
      "source": [
        "Install Required Libraries"
      ],
      "metadata": {
        "id": "n6SMKZRrNPp8"
      }
    },
    {
      "cell_type": "code",
      "source": [
        "!pip install papermill\n",
        "!pip install datasets sentence-transformers\n",
        "!pip install xgboost\n",
        "!pip install scikit-learn\n",
        "!pip install matplotlib seaborn"
      ],
      "metadata": {
        "colab": {
          "base_uri": "https://localhost:8080/"
        },
        "id": "E33dFR18NSI5",
        "outputId": "bce5cabf-8dd1-48db-a69a-25e6b21b5d66"
      },
      "execution_count": null,
      "outputs": [
        {
          "output_type": "stream",
          "name": "stdout",
          "text": [
            "Requirement already satisfied: papermill in /usr/local/lib/python3.10/dist-packages (2.6.0)\n",
            "Requirement already satisfied: click in /usr/local/lib/python3.10/dist-packages (from papermill) (8.1.7)\n",
            "Requirement already satisfied: pyyaml in /usr/local/lib/python3.10/dist-packages (from papermill) (6.0.2)\n",
            "Requirement already satisfied: nbformat>=5.2.0 in /usr/local/lib/python3.10/dist-packages (from papermill) (5.10.4)\n",
            "Requirement already satisfied: nbclient>=0.2.0 in /usr/local/lib/python3.10/dist-packages (from papermill) (0.10.1)\n",
            "Requirement already satisfied: tqdm>=4.32.2 in /usr/local/lib/python3.10/dist-packages (from papermill) (4.66.6)\n",
            "Requirement already satisfied: requests in /usr/local/lib/python3.10/dist-packages (from papermill) (2.32.3)\n",
            "Requirement already satisfied: entrypoints in /usr/local/lib/python3.10/dist-packages (from papermill) (0.4)\n",
            "Requirement already satisfied: tenacity>=5.0.2 in /usr/local/lib/python3.10/dist-packages (from papermill) (9.0.0)\n",
            "Requirement already satisfied: ansicolors in /usr/local/lib/python3.10/dist-packages (from papermill) (1.1.8)\n",
            "Requirement already satisfied: jupyter-client>=6.1.12 in /usr/local/lib/python3.10/dist-packages (from nbclient>=0.2.0->papermill) (6.1.12)\n",
            "Requirement already satisfied: jupyter-core!=5.0.*,>=4.12 in /usr/local/lib/python3.10/dist-packages (from nbclient>=0.2.0->papermill) (5.7.2)\n",
            "Requirement already satisfied: traitlets>=5.4 in /usr/local/lib/python3.10/dist-packages (from nbclient>=0.2.0->papermill) (5.7.1)\n",
            "Requirement already satisfied: fastjsonschema>=2.15 in /usr/local/lib/python3.10/dist-packages (from nbformat>=5.2.0->papermill) (2.21.1)\n",
            "Requirement already satisfied: jsonschema>=2.6 in /usr/local/lib/python3.10/dist-packages (from nbformat>=5.2.0->papermill) (4.23.0)\n",
            "Requirement already satisfied: charset-normalizer<4,>=2 in /usr/local/lib/python3.10/dist-packages (from requests->papermill) (3.4.0)\n",
            "Requirement already satisfied: idna<4,>=2.5 in /usr/local/lib/python3.10/dist-packages (from requests->papermill) (3.10)\n",
            "Requirement already satisfied: urllib3<3,>=1.21.1 in /usr/local/lib/python3.10/dist-packages (from requests->papermill) (2.2.3)\n",
            "Requirement already satisfied: certifi>=2017.4.17 in /usr/local/lib/python3.10/dist-packages (from requests->papermill) (2024.8.30)\n",
            "Requirement already satisfied: attrs>=22.2.0 in /usr/local/lib/python3.10/dist-packages (from jsonschema>=2.6->nbformat>=5.2.0->papermill) (24.2.0)\n",
            "Requirement already satisfied: jsonschema-specifications>=2023.03.6 in /usr/local/lib/python3.10/dist-packages (from jsonschema>=2.6->nbformat>=5.2.0->papermill) (2024.10.1)\n",
            "Requirement already satisfied: referencing>=0.28.4 in /usr/local/lib/python3.10/dist-packages (from jsonschema>=2.6->nbformat>=5.2.0->papermill) (0.35.1)\n",
            "Requirement already satisfied: rpds-py>=0.7.1 in /usr/local/lib/python3.10/dist-packages (from jsonschema>=2.6->nbformat>=5.2.0->papermill) (0.22.3)\n",
            "Requirement already satisfied: pyzmq>=13 in /usr/local/lib/python3.10/dist-packages (from jupyter-client>=6.1.12->nbclient>=0.2.0->papermill) (24.0.1)\n",
            "Requirement already satisfied: python-dateutil>=2.1 in /usr/local/lib/python3.10/dist-packages (from jupyter-client>=6.1.12->nbclient>=0.2.0->papermill) (2.8.2)\n",
            "Requirement already satisfied: tornado>=4.1 in /usr/local/lib/python3.10/dist-packages (from jupyter-client>=6.1.12->nbclient>=0.2.0->papermill) (6.3.3)\n",
            "Requirement already satisfied: platformdirs>=2.5 in /usr/local/lib/python3.10/dist-packages (from jupyter-core!=5.0.*,>=4.12->nbclient>=0.2.0->papermill) (4.3.6)\n",
            "Requirement already satisfied: six>=1.5 in /usr/local/lib/python3.10/dist-packages (from python-dateutil>=2.1->jupyter-client>=6.1.12->nbclient>=0.2.0->papermill) (1.16.0)\n",
            "Requirement already satisfied: datasets in /usr/local/lib/python3.10/dist-packages (3.1.0)\n",
            "Requirement already satisfied: sentence-transformers in /usr/local/lib/python3.10/dist-packages (3.2.1)\n",
            "Requirement already satisfied: filelock in /usr/local/lib/python3.10/dist-packages (from datasets) (3.16.1)\n",
            "Requirement already satisfied: numpy>=1.17 in /usr/local/lib/python3.10/dist-packages (from datasets) (1.26.4)\n",
            "Requirement already satisfied: pyarrow>=15.0.0 in /usr/local/lib/python3.10/dist-packages (from datasets) (17.0.0)\n",
            "Requirement already satisfied: dill<0.3.9,>=0.3.0 in /usr/local/lib/python3.10/dist-packages (from datasets) (0.3.8)\n",
            "Requirement already satisfied: pandas in /usr/local/lib/python3.10/dist-packages (from datasets) (2.2.2)\n",
            "Requirement already satisfied: requests>=2.32.2 in /usr/local/lib/python3.10/dist-packages (from datasets) (2.32.3)\n",
            "Requirement already satisfied: tqdm>=4.66.3 in /usr/local/lib/python3.10/dist-packages (from datasets) (4.66.6)\n",
            "Requirement already satisfied: xxhash in /usr/local/lib/python3.10/dist-packages (from datasets) (3.5.0)\n",
            "Requirement already satisfied: multiprocess<0.70.17 in /usr/local/lib/python3.10/dist-packages (from datasets) (0.70.16)\n",
            "Requirement already satisfied: fsspec<=2024.9.0,>=2023.1.0 in /usr/local/lib/python3.10/dist-packages (from fsspec[http]<=2024.9.0,>=2023.1.0->datasets) (2024.9.0)\n",
            "Requirement already satisfied: aiohttp in /usr/local/lib/python3.10/dist-packages (from datasets) (3.11.9)\n",
            "Requirement already satisfied: huggingface-hub>=0.23.0 in /usr/local/lib/python3.10/dist-packages (from datasets) (0.26.3)\n",
            "Requirement already satisfied: packaging in /usr/local/lib/python3.10/dist-packages (from datasets) (24.2)\n",
            "Requirement already satisfied: pyyaml>=5.1 in /usr/local/lib/python3.10/dist-packages (from datasets) (6.0.2)\n",
            "Requirement already satisfied: transformers<5.0.0,>=4.41.0 in /usr/local/lib/python3.10/dist-packages (from sentence-transformers) (4.46.3)\n",
            "Requirement already satisfied: torch>=1.11.0 in /usr/local/lib/python3.10/dist-packages (from sentence-transformers) (2.5.1+cu121)\n",
            "Requirement already satisfied: scikit-learn in /usr/local/lib/python3.10/dist-packages (from sentence-transformers) (1.5.2)\n",
            "Requirement already satisfied: scipy in /usr/local/lib/python3.10/dist-packages (from sentence-transformers) (1.13.1)\n",
            "Requirement already satisfied: Pillow in /usr/local/lib/python3.10/dist-packages (from sentence-transformers) (11.0.0)\n",
            "Requirement already satisfied: aiohappyeyeballs>=2.3.0 in /usr/local/lib/python3.10/dist-packages (from aiohttp->datasets) (2.4.4)\n",
            "Requirement already satisfied: aiosignal>=1.1.2 in /usr/local/lib/python3.10/dist-packages (from aiohttp->datasets) (1.3.1)\n",
            "Requirement already satisfied: async-timeout<6.0,>=4.0 in /usr/local/lib/python3.10/dist-packages (from aiohttp->datasets) (4.0.3)\n",
            "Requirement already satisfied: attrs>=17.3.0 in /usr/local/lib/python3.10/dist-packages (from aiohttp->datasets) (24.2.0)\n",
            "Requirement already satisfied: frozenlist>=1.1.1 in /usr/local/lib/python3.10/dist-packages (from aiohttp->datasets) (1.5.0)\n",
            "Requirement already satisfied: multidict<7.0,>=4.5 in /usr/local/lib/python3.10/dist-packages (from aiohttp->datasets) (6.1.0)\n",
            "Requirement already satisfied: propcache>=0.2.0 in /usr/local/lib/python3.10/dist-packages (from aiohttp->datasets) (0.2.1)\n",
            "Requirement already satisfied: yarl<2.0,>=1.17.0 in /usr/local/lib/python3.10/dist-packages (from aiohttp->datasets) (1.18.3)\n",
            "Requirement already satisfied: typing-extensions>=3.7.4.3 in /usr/local/lib/python3.10/dist-packages (from huggingface-hub>=0.23.0->datasets) (4.12.2)\n",
            "Requirement already satisfied: charset-normalizer<4,>=2 in /usr/local/lib/python3.10/dist-packages (from requests>=2.32.2->datasets) (3.4.0)\n",
            "Requirement already satisfied: idna<4,>=2.5 in /usr/local/lib/python3.10/dist-packages (from requests>=2.32.2->datasets) (3.10)\n",
            "Requirement already satisfied: urllib3<3,>=1.21.1 in /usr/local/lib/python3.10/dist-packages (from requests>=2.32.2->datasets) (2.2.3)\n",
            "Requirement already satisfied: certifi>=2017.4.17 in /usr/local/lib/python3.10/dist-packages (from requests>=2.32.2->datasets) (2024.8.30)\n",
            "Requirement already satisfied: networkx in /usr/local/lib/python3.10/dist-packages (from torch>=1.11.0->sentence-transformers) (3.4.2)\n",
            "Requirement already satisfied: jinja2 in /usr/local/lib/python3.10/dist-packages (from torch>=1.11.0->sentence-transformers) (3.1.4)\n",
            "Requirement already satisfied: sympy==1.13.1 in /usr/local/lib/python3.10/dist-packages (from torch>=1.11.0->sentence-transformers) (1.13.1)\n",
            "Requirement already satisfied: mpmath<1.4,>=1.1.0 in /usr/local/lib/python3.10/dist-packages (from sympy==1.13.1->torch>=1.11.0->sentence-transformers) (1.3.0)\n",
            "Requirement already satisfied: regex!=2019.12.17 in /usr/local/lib/python3.10/dist-packages (from transformers<5.0.0,>=4.41.0->sentence-transformers) (2024.9.11)\n",
            "Requirement already satisfied: tokenizers<0.21,>=0.20 in /usr/local/lib/python3.10/dist-packages (from transformers<5.0.0,>=4.41.0->sentence-transformers) (0.20.3)\n",
            "Requirement already satisfied: safetensors>=0.4.1 in /usr/local/lib/python3.10/dist-packages (from transformers<5.0.0,>=4.41.0->sentence-transformers) (0.4.5)\n",
            "Requirement already satisfied: python-dateutil>=2.8.2 in /usr/local/lib/python3.10/dist-packages (from pandas->datasets) (2.8.2)\n",
            "Requirement already satisfied: pytz>=2020.1 in /usr/local/lib/python3.10/dist-packages (from pandas->datasets) (2024.2)\n",
            "Requirement already satisfied: tzdata>=2022.7 in /usr/local/lib/python3.10/dist-packages (from pandas->datasets) (2024.2)\n",
            "Requirement already satisfied: joblib>=1.2.0 in /usr/local/lib/python3.10/dist-packages (from scikit-learn->sentence-transformers) (1.4.2)\n",
            "Requirement already satisfied: threadpoolctl>=3.1.0 in /usr/local/lib/python3.10/dist-packages (from scikit-learn->sentence-transformers) (3.5.0)\n",
            "Requirement already satisfied: six>=1.5 in /usr/local/lib/python3.10/dist-packages (from python-dateutil>=2.8.2->pandas->datasets) (1.16.0)\n",
            "Requirement already satisfied: MarkupSafe>=2.0 in /usr/local/lib/python3.10/dist-packages (from jinja2->torch>=1.11.0->sentence-transformers) (3.0.2)\n",
            "Requirement already satisfied: xgboost in /usr/local/lib/python3.10/dist-packages (2.1.3)\n",
            "Requirement already satisfied: numpy in /usr/local/lib/python3.10/dist-packages (from xgboost) (1.26.4)\n",
            "Requirement already satisfied: nvidia-nccl-cu12 in /usr/local/lib/python3.10/dist-packages (from xgboost) (2.23.4)\n",
            "Requirement already satisfied: scipy in /usr/local/lib/python3.10/dist-packages (from xgboost) (1.13.1)\n",
            "Requirement already satisfied: scikit-learn in /usr/local/lib/python3.10/dist-packages (1.5.2)\n",
            "Requirement already satisfied: numpy>=1.19.5 in /usr/local/lib/python3.10/dist-packages (from scikit-learn) (1.26.4)\n",
            "Requirement already satisfied: scipy>=1.6.0 in /usr/local/lib/python3.10/dist-packages (from scikit-learn) (1.13.1)\n",
            "Requirement already satisfied: joblib>=1.2.0 in /usr/local/lib/python3.10/dist-packages (from scikit-learn) (1.4.2)\n",
            "Requirement already satisfied: threadpoolctl>=3.1.0 in /usr/local/lib/python3.10/dist-packages (from scikit-learn) (3.5.0)\n",
            "Requirement already satisfied: matplotlib in /usr/local/lib/python3.10/dist-packages (3.8.0)\n",
            "Requirement already satisfied: seaborn in /usr/local/lib/python3.10/dist-packages (0.13.2)\n",
            "Requirement already satisfied: contourpy>=1.0.1 in /usr/local/lib/python3.10/dist-packages (from matplotlib) (1.3.1)\n",
            "Requirement already satisfied: cycler>=0.10 in /usr/local/lib/python3.10/dist-packages (from matplotlib) (0.12.1)\n",
            "Requirement already satisfied: fonttools>=4.22.0 in /usr/local/lib/python3.10/dist-packages (from matplotlib) (4.55.1)\n",
            "Requirement already satisfied: kiwisolver>=1.0.1 in /usr/local/lib/python3.10/dist-packages (from matplotlib) (1.4.7)\n",
            "Requirement already satisfied: numpy<2,>=1.21 in /usr/local/lib/python3.10/dist-packages (from matplotlib) (1.26.4)\n",
            "Requirement already satisfied: packaging>=20.0 in /usr/local/lib/python3.10/dist-packages (from matplotlib) (24.2)\n",
            "Requirement already satisfied: pillow>=6.2.0 in /usr/local/lib/python3.10/dist-packages (from matplotlib) (11.0.0)\n",
            "Requirement already satisfied: pyparsing>=2.3.1 in /usr/local/lib/python3.10/dist-packages (from matplotlib) (3.2.0)\n",
            "Requirement already satisfied: python-dateutil>=2.7 in /usr/local/lib/python3.10/dist-packages (from matplotlib) (2.8.2)\n",
            "Requirement already satisfied: pandas>=1.2 in /usr/local/lib/python3.10/dist-packages (from seaborn) (2.2.2)\n",
            "Requirement already satisfied: pytz>=2020.1 in /usr/local/lib/python3.10/dist-packages (from pandas>=1.2->seaborn) (2024.2)\n",
            "Requirement already satisfied: tzdata>=2022.7 in /usr/local/lib/python3.10/dist-packages (from pandas>=1.2->seaborn) (2024.2)\n",
            "Requirement already satisfied: six>=1.5 in /usr/local/lib/python3.10/dist-packages (from python-dateutil>=2.7->matplotlib) (1.16.0)\n"
          ]
        }
      ]
    },
    {
      "cell_type": "markdown",
      "source": [
        "Load SNLI Dataset"
      ],
      "metadata": {
        "id": "ttpd3TlBNb3T"
      }
    },
    {
      "cell_type": "code",
      "source": [
        "from datasets import load_dataset\n",
        "\n",
        "# Load SNLI dataset\n",
        "snli = load_dataset('snli')\n",
        "\n",
        "# Check dataset structure\n",
        "print(snli)\n",
        "\n",
        "# Extract premises, hypotheses, and labels\n",
        "train_data = snli['train']\n",
        "premises = train_data['premise']\n",
        "hypotheses = train_data['hypothesis']\n",
        "labels = train_data['label']  # 0: entailment, 1: neutral, 2: contradiction\n",
        "\n",
        "# Remove rows with None or missing data\n",
        "filtered_data = [(p, h, l) for p, h, l in zip(premises, hypotheses, labels) if p and h]\n",
        "premises, hypotheses, labels = zip(*filtered_data)\n",
        "\n",
        "print(f\"Loaded {len(premises)} sentence pairs.\")"
      ],
      "metadata": {
        "colab": {
          "base_uri": "https://localhost:8080/"
        },
        "id": "zq98Af63NUGr",
        "outputId": "f5de65d2-ae87-4eaf-87fa-376f1f3d3562"
      },
      "execution_count": null,
      "outputs": [
        {
          "output_type": "stream",
          "name": "stderr",
          "text": [
            "/usr/local/lib/python3.10/dist-packages/huggingface_hub/utils/_auth.py:94: UserWarning: \n",
            "The secret `HF_TOKEN` does not exist in your Colab secrets.\n",
            "To authenticate with the Hugging Face Hub, create a token in your settings tab (https://huggingface.co/settings/tokens), set it as secret in your Google Colab and restart your session.\n",
            "You will be able to reuse this secret in all of your notebooks.\n",
            "Please note that authentication is recommended but still optional to access public models or datasets.\n",
            "  warnings.warn(\n"
          ]
        },
        {
          "output_type": "stream",
          "name": "stdout",
          "text": [
            "DatasetDict({\n",
            "    test: Dataset({\n",
            "        features: ['premise', 'hypothesis', 'label'],\n",
            "        num_rows: 10000\n",
            "    })\n",
            "    validation: Dataset({\n",
            "        features: ['premise', 'hypothesis', 'label'],\n",
            "        num_rows: 10000\n",
            "    })\n",
            "    train: Dataset({\n",
            "        features: ['premise', 'hypothesis', 'label'],\n",
            "        num_rows: 550152\n",
            "    })\n",
            "})\n",
            "Loaded 550152 sentence pairs.\n"
          ]
        }
      ]
    },
    {
      "cell_type": "markdown",
      "source": [
        "Preprocess and Balance Dataset"
      ],
      "metadata": {
        "id": "ecbE7mCINkEm"
      }
    },
    {
      "cell_type": "code",
      "source": [
        "from sklearn.utils import resample\n",
        "import random\n",
        "\n",
        "# Convert to a list for upsampling\n",
        "data = list(zip(premises, hypotheses, labels))\n",
        "\n",
        "# Separate by class labels\n",
        "entailment = [d for d in data if d[2] == 0]\n",
        "neutral = [d for d in data if d[2] == 1]\n",
        "contradiction = [d for d in data if d[2] == 2]\n",
        "\n",
        "# Upsample the minority classes (optional)\n",
        "max_size = max(len(entailment), len(neutral), len(contradiction))\n",
        "\n",
        "entailment_upsampled = resample(entailment, replace=True, n_samples=max_size, random_state=42)\n",
        "neutral_upsampled = resample(neutral, replace=True, n_samples=max_size, random_state=42)\n",
        "contradiction_upsampled = resample(contradiction, replace=True, n_samples=max_size, random_state=42)\n",
        "\n",
        "# Combine the classes back together\n",
        "balanced_data = entailment_upsampled + neutral_upsampled + contradiction_upsampled\n",
        "\n",
        "# Shuffle the dataset\n",
        "random.shuffle(balanced_data)\n",
        "\n",
        "# Unzip back to premises, hypotheses, and labels\n",
        "premises, hypotheses, labels = zip(*balanced_data)\n",
        "\n",
        "print(f\"Loaded {len(premises)} balanced sentence pairs.\")"
      ],
      "metadata": {
        "colab": {
          "base_uri": "https://localhost:8080/"
        },
        "id": "WCDCb7xvNeej",
        "outputId": "bc038eef-6634-412b-901f-2b5c57a2683f"
      },
      "execution_count": null,
      "outputs": [
        {
          "output_type": "stream",
          "name": "stdout",
          "text": [
            "Loaded 550248 balanced sentence pairs.\n"
          ]
        }
      ]
    },
    {
      "cell_type": "markdown",
      "source": [
        "Sentence Embeddings with Sentence-BERT"
      ],
      "metadata": {
        "id": "RDCuasp4Nps2"
      }
    },
    {
      "cell_type": "code",
      "source": [
        "from sentence_transformers import SentenceTransformer\n",
        "\n",
        "# Load Sentence-BERT model\n",
        "model = SentenceTransformer('all-MiniLM-L6-v2')\n",
        "\n",
        "# Generate embeddings for both premises and hypotheses\n",
        "premise_embeddings = model.encode(premises, show_progress_bar=True)\n",
        "hypothesis_embeddings = model.encode(hypotheses, show_progress_bar=True)\n",
        "\n",
        "print(f\"Premise Embedding Shape: {premise_embeddings.shape}\")\n",
        "print(f\"Hypothesis Embedding Shape: {hypothesis_embeddings.shape}\")"
      ],
      "metadata": {
        "colab": {
          "base_uri": "https://localhost:8080/",
          "height": 116,
          "referenced_widgets": [
            "743be75927fc4ade89ca56e580f7adbf",
            "72bc7ed99a5f4177b76c78a41e8d89ac",
            "85038de4fe69494dac9b9878f6b84442",
            "de812b67a4424982b09d238f49a04210",
            "9e139f6286324a658646b597e0934c71",
            "0c4187d56c3a4a7baeddcab21279ba3f",
            "1b25d3d20601402d8bb1b26a0e440fbe",
            "557b29bb2e1c47b5ae056749066c0db8",
            "b6a18fdc8976429da8562b1cdac060d4",
            "35bd397e8f9940cc91493f3081c81c98",
            "7df0e4b8d5f8422088329fad08cd029b",
            "20cbcf4276bd4a8d99685dff5f5bc2f0",
            "20dd4bceedb6401d8d18b56b334ddf78",
            "098383777da44bd5a8c3fd0a01567ebd",
            "b21d4a1cc7d7433b864aa0ca35950457",
            "4e02753299924f34874a603dd3cf5814",
            "65d27b9e346647cfa40fa8b5dc29b7d8",
            "6c38d942bffa4ee3821bff4ed98ad872",
            "6cdc1e15bc4e4b11998f060e24527c91",
            "66a8e7489e864fc1aa1ae1b6b2ab2740",
            "36c17188af694274b87b91fc980a1e48",
            "727d356f63c84f50a0b7d8b75ebf2a96"
          ]
        },
        "id": "nhXCwjxRNmFf",
        "outputId": "bfe54d75-28de-46c0-80ce-c8dcb593f4a7"
      },
      "execution_count": null,
      "outputs": [
        {
          "output_type": "display_data",
          "data": {
            "text/plain": [
              "Batches:   0%|          | 0/17196 [00:00<?, ?it/s]"
            ],
            "application/vnd.jupyter.widget-view+json": {
              "version_major": 2,
              "version_minor": 0,
              "model_id": "743be75927fc4ade89ca56e580f7adbf"
            }
          },
          "metadata": {}
        },
        {
          "output_type": "display_data",
          "data": {
            "text/plain": [
              "Batches:   0%|          | 0/17196 [00:00<?, ?it/s]"
            ],
            "application/vnd.jupyter.widget-view+json": {
              "version_major": 2,
              "version_minor": 0,
              "model_id": "20cbcf4276bd4a8d99685dff5f5bc2f0"
            }
          },
          "metadata": {}
        },
        {
          "output_type": "stream",
          "name": "stdout",
          "text": [
            "Premise Embedding Shape: (550248, 384)\n",
            "Hypothesis Embedding Shape: (550248, 384)\n"
          ]
        }
      ]
    },
    {
      "cell_type": "markdown",
      "source": [
        "Similarity Analysis (Cosine Similarity)"
      ],
      "metadata": {
        "id": "Y78QaN0hPNYy"
      }
    },
    {
      "cell_type": "code",
      "source": [
        "from sklearn.metrics.pairwise import cosine_similarity\n",
        "\n",
        "# Example: Find similarity between the first premise and all hypotheses\n",
        "similarity_scores = cosine_similarity([premise_embeddings[0]], hypothesis_embeddings)\n",
        "\n",
        "# Retrieve top-5 most similar hypotheses\n",
        "top_indices = similarity_scores[0].argsort()[-5:][::-1]\n",
        "print(\"Top 5 Similar Hypotheses:\")\n",
        "for idx in top_indices:\n",
        "    print(f\"Score: {similarity_scores[0][idx]:.2f}, Hypothesis: {hypotheses[idx]}\")"
      ],
      "metadata": {
        "colab": {
          "base_uri": "https://localhost:8080/"
        },
        "id": "tA148TlWNt8B",
        "outputId": "8b1d187a-29fb-4a93-942e-6b019172dab9"
      },
      "execution_count": null,
      "outputs": [
        {
          "output_type": "stream",
          "name": "stdout",
          "text": [
            "Top 5 Similar Hypotheses:\n",
            "Score: 0.90, Hypothesis: A surfer is in the tunnel part of the wave.\n",
            "Score: 0.84, Hypothesis: A surfer rides a wave.\n",
            "Score: 0.84, Hypothesis: A surfer rides a wave.\n",
            "Score: 0.84, Hypothesis: A surfer rides a wave.\n",
            "Score: 0.84, Hypothesis: A surfer rides a wave.\n"
          ]
        }
      ]
    },
    {
      "cell_type": "markdown",
      "source": [
        "Semantic Analysis - Sentiment or Similarity Analysis"
      ],
      "metadata": {
        "id": "3xUKboZsPTS1"
      }
    },
    {
      "cell_type": "code",
      "source": [
        "# Example: Perform semantic similarity analysis between two sentences\n",
        "sentence_1 = \"A person is walking in the park.\"\n",
        "sentence_2 = \"Someone is strolling in a garden.\"\n",
        "\n",
        "# Get embeddings\n",
        "embedding_1 = model.encode(sentence_1)\n",
        "embedding_2 = model.encode(sentence_2)\n",
        "\n",
        "# Compute cosine similarity\n",
        "similarity = cosine_similarity([embedding_1], [embedding_2])\n",
        "print(f\"Semantic similarity score between the two sentences: {similarity[0][0]:.2f}\")"
      ],
      "metadata": {
        "colab": {
          "base_uri": "https://localhost:8080/"
        },
        "id": "qXTwj01lPPjz",
        "outputId": "cc3e96cb-dba0-4f17-de97-93aa77c097a0"
      },
      "execution_count": null,
      "outputs": [
        {
          "output_type": "stream",
          "name": "stdout",
          "text": [
            "Semantic similarity score between the two sentences: 0.57\n"
          ]
        }
      ]
    },
    {
      "cell_type": "markdown",
      "source": [
        "Question-Answer Pair Generation (Using Premise and Hypothesis)"
      ],
      "metadata": {
        "id": "yk6wGN2bPijN"
      }
    },
    {
      "cell_type": "code",
      "source": [
        "# Example: Generate Q&A pairs based on premise-hypothesis\n",
        "def generate_question_answer(premise, hypothesis):\n",
        "    # Simple rule: extract a question from the premise and check the relationship with the hypothesis\n",
        "    question = f\"Where is {premise.split()[0]}?\"\n",
        "    answer = \"On the mat\" if \"on a mat\" in hypothesis else \"Not on a mat\"\n",
        "    return question, answer\n",
        "\n",
        "# Generate Q&A for first example\n",
        "question, answer = generate_question_answer(premises[0], hypotheses[0])\n",
        "print(f\"Generated Question: {question}\")\n",
        "print(f\"Generated Answer: {answer}\")"
      ],
      "metadata": {
        "colab": {
          "base_uri": "https://localhost:8080/"
        },
        "id": "o0XA4xzRPa_e",
        "outputId": "28ae7f84-ab82-435a-8a67-4446d0632562"
      },
      "execution_count": null,
      "outputs": [
        {
          "output_type": "stream",
          "name": "stdout",
          "text": [
            "Generated Question: Where is A?\n",
            "Generated Answer: Not on a mat\n"
          ]
        }
      ]
    },
    {
      "cell_type": "markdown",
      "source": [
        "Model Evaluation with XGBoost (Classification)"
      ],
      "metadata": {
        "id": "ZxOOyEJiPpKB"
      }
    },
    {
      "cell_type": "code",
      "source": [
        "from xgboost import XGBClassifier\n",
        "from sklearn.model_selection import train_test_split\n",
        "from sklearn.metrics import accuracy_score\n",
        "import numpy as np\n",
        "\n",
        "# Combine embeddings (premise and hypothesis embeddings)\n",
        "combined_embeddings = [np.concatenate((p, h)) for p, h in zip(premise_embeddings, hypothesis_embeddings)]\n",
        "\n",
        "# Split the data into train and test sets\n",
        "X_train, X_test, y_train, y_test = train_test_split(combined_embeddings, labels, test_size=0.2, random_state=42)\n",
        "\n",
        "# Train an XGBoost classifier\n",
        "xgb_clf = XGBClassifier(use_label_encoder=False, eval_metric='mlogloss')\n",
        "xgb_clf.fit(X_train, y_train)\n",
        "\n",
        "# Evaluate the model\n",
        "y_pred = xgb_clf.predict(X_test)\n",
        "accuracy = accuracy_score(y_test, y_pred)\n",
        "print(f\"XGBoost Model Accuracy: {accuracy:.2f}\")"
      ],
      "metadata": {
        "colab": {
          "base_uri": "https://localhost:8080/"
        },
        "id": "uWPXFBVDPlR9",
        "outputId": "459cf16e-acf7-4537-9108-60eb384bb174"
      },
      "execution_count": null,
      "outputs": [
        {
          "output_type": "stream",
          "name": "stderr",
          "text": [
            "/usr/local/lib/python3.10/dist-packages/xgboost/core.py:158: UserWarning: [15:57:15] WARNING: /workspace/src/learner.cc:740: \n",
            "Parameters: { \"use_label_encoder\" } are not used.\n",
            "\n",
            "  warnings.warn(smsg, UserWarning)\n"
          ]
        },
        {
          "output_type": "stream",
          "name": "stdout",
          "text": [
            "XGBoost Model Accuracy: 0.75\n"
          ]
        }
      ]
    },
    {
      "cell_type": "markdown",
      "source": [
        "Clustering: KMeans Clustering with PCA Visualization"
      ],
      "metadata": {
        "id": "nowkSvS0WdTi"
      }
    },
    {
      "cell_type": "code",
      "source": [
        "from sklearn.cluster import KMeans\n",
        "from sklearn.decomposition import PCA\n",
        "import matplotlib.pyplot as plt\n",
        "\n",
        "# KMeans clustering\n",
        "kmeans = KMeans(n_clusters=3, random_state=42)\n",
        "clusters = kmeans.fit_predict(premise_embeddings)\n",
        "\n",
        "# Visualize clusters using PCA\n",
        "pca = PCA(n_components=2)\n",
        "reduced_embeddings = pca.fit_transform(premise_embeddings)\n",
        "\n",
        "# Plotting the clusters with PCA reduction\n",
        "plt.figure(figsize=(8, 6))\n",
        "plt.scatter(reduced_embeddings[:, 0], reduced_embeddings[:, 1], c=clusters, cmap='viridis', s=5)\n",
        "plt.title(\"Sentence Clustering (PCA Projection)\")\n",
        "plt.xlabel(\"PCA Dimension 1\")\n",
        "plt.ylabel(\"PCA Dimension 2\")\n",
        "plt.colorbar()\n",
        "plt.show()"
      ],
      "metadata": {
        "colab": {
          "base_uri": "https://localhost:8080/",
          "height": 564
        },
        "id": "1K86e0gnWf24",
        "outputId": "b7a4e4c0-fadc-4e29-f26e-ea832445e189"
      },
      "execution_count": null,
      "outputs": [
        {
          "output_type": "display_data",
          "data": {
            "text/plain": [
              "<Figure size 800x600 with 2 Axes>"
            ],
            "image/png": "[encoded data removed]"
          },
          "metadata": {}
        }
      ]
    },
    {
      "cell_type": "markdown",
      "source": [
        "Query-Based Information Retrieval (With Semantic Matching)"
      ],
      "metadata": {
        "id": "JhnB2wKuVney"
      }
    },
    {
      "cell_type": "code",
      "source": [
        "# Get query input from the user\n",
        "query = input(\"Enter your query sentence: \")  # Prompting for input\n",
        "\n",
        "# Generate the query embedding\n",
        "query_embedding = model.encode(query)\n",
        "\n",
        "# Compute similarity scores between the query and all premises\n",
        "similarity_scores = cosine_similarity([query_embedding], premise_embeddings)\n",
        "\n",
        "# Ensure the premise and similarity scores align\n",
        "assert len(premises) == len(similarity_scores[0]), \"Premises length and similarity scores length mismatch!\"\n",
        "\n",
        "# Retrieve top N most similar sentences with diversity\n",
        "top_n = 5\n",
        "retrieved_indices = set()\n",
        "top_results = []\n",
        "\n",
        "for idx in similarity_scores[0].argsort()[::-1]:\n",
        "    if idx < len(premises) and premises[idx] not in retrieved_indices:\n",
        "        top_results.append((similarity_scores[0][idx], premises[idx]))\n",
        "        retrieved_indices.add(premises[idx])\n",
        "    if len(top_results) >= top_n:\n",
        "        break\n",
        "\n",
        "# Display top matches\n",
        "print(\"\\nTop Matches for Query (Diverse Results):\")\n",
        "for score, sentence in top_results:\n",
        "    print(f\"Score: {score:.2f}, Sentence: {sentence}\")"
      ],
      "metadata": {
        "colab": {
          "base_uri": "https://localhost:8080/"
        },
        "id": "LnJOuZSxPrb8",
        "outputId": "6eb98f91-2466-41da-d2f3-42071f9bdf67"
      },
      "execution_count": null,
      "outputs": [
        {
          "output_type": "stream",
          "name": "stdout",
          "text": [
            "Enter your query sentence: Will you have a cup of coffee?\n",
            "\n",
            "Top Matches for Query (Diverse Results):\n",
            "Score: 0.78, Sentence: Are you coming with me for a cup of coffee?\n",
            "Score: 0.53, Sentence: A woman walking and drinking coffee.\n",
            "Score: 0.50, Sentence: Man with cupcakes and coffee contemplating the statement \"who are you?\"\n",
            "Score: 0.50, Sentence: A woman is drinking her coffee.\n",
            "Score: 0.50, Sentence: A woman with glasses drinks coffee at a cafe.\n"
          ]
        }
      ]
    },
    {
      "cell_type": "code",
      "source": [
        "# Get query input from the user\n",
        "query = input(\"Enter your query sentence: \")\n",
        "\n",
        "# Generate the query embedding\n",
        "query_embedding = model.encode(query)\n",
        "\n",
        "# Compute similarity scores between the query and all premises\n",
        "similarity_scores = cosine_similarity([query_embedding], premise_embeddings)\n",
        "\n",
        "# Ensure the premise and similarity scores align\n",
        "assert len(premises) == len(similarity_scores[0]), \"Premises length and similarity scores length mismatch!\"\n",
        "\n",
        "# Retrieve top N most similar sentences with diversity\n",
        "top_n = 5\n",
        "retrieved_indices = set()\n",
        "top_results = []\n",
        "\n",
        "for idx in similarity_scores[0].argsort()[::-1]:\n",
        "    if idx < len(premises) and premises[idx] not in retrieved_indices:\n",
        "        top_results.append((similarity_scores[0][idx], premises[idx]))\n",
        "        retrieved_indices.add(premises[idx])\n",
        "    if len(top_results) >= top_n:\n",
        "        break\n",
        "\n",
        "# Display top matches\n",
        "print(\"\\nTop Matches for Query (Diverse Results):\")\n",
        "for score, sentence in top_results:\n",
        "    print(f\"Score: {score:.2f}, Sentence: {sentence}\")"
      ],
      "metadata": {
        "colab": {
          "base_uri": "https://localhost:8080/"
        },
        "id": "9cBBV3XUVqKU",
        "outputId": "ccdb6c5e-5ce2-46f1-fcec-5cf9fdec8e84"
      },
      "execution_count": null,
      "outputs": [
        {
          "output_type": "stream",
          "name": "stdout",
          "text": [
            "Enter your query sentence: I am watching a movie.\n",
            "\n",
            "Top Matches for Query (Diverse Results):\n",
            "Score: 0.52, Sentence: a line waiting to get into a movie\n",
            "Score: 0.50, Sentence: The marquee of movies now playing.\n",
            "Score: 0.48, Sentence: A lady bowling while watching a movie.\n",
            "Score: 0.43, Sentence: People watching an interesting thing.\n",
            "Score: 0.42, Sentence: Three people walking out of a movie.\n"
          ]
        }
      ]
    },
    {
      "cell_type": "code",
      "source": [
        "# Get query input from the user\n",
        "query = input(\"Enter your query sentence: \")\n",
        "\n",
        "# Generate the query embedding\n",
        "query_embedding = model.encode(query)\n",
        "\n",
        "# Compute similarity scores between the query and all premises\n",
        "similarity_scores = cosine_similarity([query_embedding], premise_embeddings)\n",
        "\n",
        "# Ensure the premise and similarity scores align\n",
        "assert len(premises) == len(similarity_scores[0]), \"Premises length and similarity scores length mismatch!\"\n",
        "\n",
        "# Retrieve top N most similar sentences with diversity\n",
        "top_n = 5\n",
        "retrieved_indices = set()\n",
        "top_results = []\n",
        "\n",
        "for idx in similarity_scores[0].argsort()[::-1]:\n",
        "    if idx < len(premises) and premises[idx] not in retrieved_indices:\n",
        "        top_results.append((similarity_scores[0][idx], premises[idx]))\n",
        "        retrieved_indices.add(premises[idx])\n",
        "    if len(top_results) >= top_n:\n",
        "        break\n",
        "\n",
        "# Display top matches\n",
        "print(\"\\nTop Matches for Query (Diverse Results):\")\n",
        "for score, sentence in top_results:\n",
        "    print(f\"Score: {score:.2f}, Sentence: {sentence}\")"
      ],
      "metadata": {
        "colab": {
          "base_uri": "https://localhost:8080/"
        },
        "id": "hHbCIXWJV1HA",
        "outputId": "f23dce99-7b56-4ece-cc8d-7a6fccff4ab2"
      },
      "execution_count": null,
      "outputs": [
        {
          "output_type": "stream",
          "name": "stdout",
          "text": [
            "Enter your query sentence: Today is a sunny day.\n",
            "\n",
            "Top Matches for Query (Diverse Results):\n",
            "Score: 0.79, Sentence: A normal sunny day in a big city.\n",
            "Score: 0.76, Sentence: People outside on a sunny day.\n",
            "Score: 0.72, Sentence: Group of people on a sunny day.\n",
            "Score: 0.71, Sentence: People pass time outside on a sunny day.\n",
            "Score: 0.67, Sentence: People walk down the street on a sunny day.\n"
          ]
        }
      ]
    },
    {
      "cell_type": "code",
      "source": [
        "# Print some premises to verify\n",
        "print(f\"First 5 premises:\\n {premises[:5]}\")\n",
        "\n",
        "# Ensure you are encoding the correct data\n",
        "premise_embeddings = model.encode(premises, show_progress_bar=True)\n",
        "query_embedding = model.encode(query)  # Encoding only the query\n",
        "\n",
        "# Verify lengths after encoding\n",
        "print(f\"Length of encoded premises: {len(premise_embeddings)}\")\n",
        "print(f\"Length of similarity scores: {len(similarity_scores[0])}\")"
      ],
      "metadata": {
        "colab": {
          "base_uri": "https://localhost:8080/",
          "height": 138,
          "referenced_widgets": [
            "b1f835d99e8b4b4ebc7477a0b57b0246",
            "d4ae5e1a78ee49b9bd76c8872be423ad",
            "0b1b4710d1f041c59f00e96654f5168e",
            "0b137613ba7d44d0ad899b68d1171600",
            "303f4d9554bb4ab88d5624a8a1accfd7",
            "934435b2f8e04260b54e9bf4ec022672",
            "c381e44c463e48b8a51b8c9c16160b2c",
            "0aea3a53191141518cc60d9086f3575c",
            "9b7d8faddfd944c28c563900bfc25ba8",
            "ab5f78e369964b409d24b4cc4356bac8",
            "a79575bb4c934570abccbd57129aef61"
          ]
        },
        "id": "qYWyrnKiWGt9",
        "outputId": "505a9ec2-cca9-487f-e19a-b77e3abd3f7e"
      },
      "execution_count": null,
      "outputs": [
        {
          "output_type": "stream",
          "name": "stdout",
          "text": [
            "First 5 premises:\n",
            " ('Two young Asian women buy food from a Japanese food establishment.', 'A man in a green t-shirt and long tan apron hacks apart the carcass of a cow while another man hoses away the blood.', 'Two young females talk and text as they stare into the distance.', 'The family is enjoying their dinner.', 'Futuristic bike rider wins the riding in place championship.')\n"
          ]
        },
        {
          "output_type": "display_data",
          "data": {
            "text/plain": [
              "Batches:   0%|          | 0/10869 [00:00<?, ?it/s]"
            ],
            "application/vnd.jupyter.widget-view+json": {
              "version_major": 2,
              "version_minor": 0,
              "model_id": "b1f835d99e8b4b4ebc7477a0b57b0246"
            }
          },
          "metadata": {}
        },
        {
          "output_type": "stream",
          "name": "stdout",
          "text": [
            "Length of encoded premises: 347799\n",
            "Length of similarity scores: 347799\n"
          ]
        }
      ]
    },
    {
      "cell_type": "code",
      "source": [
        "# Assuming you have already defined the similarity scores after encoding\n",
        "similarity_scores = cosine_similarity([query_embedding], premise_embeddings)\n",
        "\n",
        "# Verify lengths\n",
        "print(f\"Length of premises: {len(premises)}\")\n",
        "print(f\"Length of similarity_scores: {len(similarity_scores[0])}\")"
      ],
      "metadata": {
        "colab": {
          "base_uri": "https://localhost:8080/"
        },
        "id": "a6d5a9gbYP4B",
        "outputId": "a866852a-9878-4e8d-a5ca-a7a1ad0882ad"
      },
      "execution_count": null,
      "outputs": [
        {
          "output_type": "stream",
          "name": "stdout",
          "text": [
            "Length of premises: 347799\n",
            "Length of similarity_scores: 347799\n"
          ]
        }
      ]
    },
    {
      "cell_type": "markdown",
      "source": [
        "Calculating the Difference in Embeddings Between Premise and Hypothesis"
      ],
      "metadata": {
        "id": "LIAeY7JBYuWN"
      }
    },
    {
      "cell_type": "code",
      "source": [
        "import numpy as np\n",
        "\n",
        "# Example: Calculate the difference in embeddings between premise and hypothesis\n",
        "embedding_diff = np.abs(premise_embeddings[0] - hypothesis_embeddings[0])\n",
        "\n",
        "# Visualize the embedding differences for the first sentence pair\n",
        "plt.figure(figsize=(8, 6))\n",
        "plt.bar(range(len(embedding_diff)), embedding_diff)\n",
        "plt.title(\"Embedding Differences Between Premise and Hypothesis\")\n",
        "plt.xlabel(\"Embedding Dimension Index\")\n",
        "plt.ylabel(\"Absolute Difference\")\n",
        "plt.show()\n",
        "\n",
        "print(\"Embedding Difference Example (Premise-Hypothesis):\")\n",
        "print(embedding_diff)"
      ],
      "metadata": {
        "colab": {
          "base_uri": "https://localhost:8080/",
          "height": 1000
        },
        "id": "AgSoLr7AYrRx",
        "outputId": "23947df2-e745-4feb-97a7-cb8f0db18208"
      },
      "execution_count": null,
      "outputs": [
        {
          "output_type": "display_data",
          "data": {
            "text/plain": [
              "<Figure size 800x600 with 1 Axes>"
            ],
            "image/png": "[encoded data removed]"
          },
          "metadata": {}
        },
        {
          "output_type": "stream",
          "name": "stdout",
          "text": [
            "Embedding Difference Example (Premise-Hypothesis):\n",
            "[2.71896832e-02 1.06033860e-02 3.12202517e-02 1.75011009e-02\n",
            " 6.81758523e-02 7.95084313e-02 2.56278515e-02 3.26407328e-02\n",
            " 7.92897120e-03 2.81233527e-02 1.39233112e-01 1.26292035e-02\n",
            " 9.81289893e-02 6.80265576e-02 6.02740720e-02 1.64696388e-03\n",
            " 2.15285718e-02 7.60896318e-03 2.65256092e-02 6.26218468e-02\n",
            " 5.32571189e-02 7.55143389e-02 1.14985090e-02 1.11118779e-02\n",
            " 6.62375838e-02 5.61713427e-02 9.29766893e-02 3.54588479e-02\n",
            " 1.05565032e-02 6.12956509e-02 9.75620076e-02 5.03599197e-02\n",
            " 1.16051603e-02 1.28768399e-01 2.54244786e-02 6.11689799e-02\n",
            " 8.43038559e-02 5.12210019e-02 6.41970709e-02 3.92785296e-03\n",
            " 1.85711216e-02 4.79708239e-03 5.46129011e-02 1.78100258e-01\n",
            " 8.78810138e-02 6.04690462e-02 1.07304566e-02 8.93805176e-03\n",
            " 9.25457776e-02 2.27629207e-03 2.65118126e-02 6.21913932e-02\n",
            " 1.28833987e-02 2.52384748e-02 4.90931608e-02 6.59298450e-02\n",
            " 5.41108251e-02 2.36720592e-03 1.31565686e-02 9.16339681e-02\n",
            " 4.44900654e-02 6.58996105e-02 2.04640906e-03 5.70638850e-02\n",
            " 1.76803678e-01 1.23846717e-02 3.47582996e-03 1.04012571e-01\n",
            " 1.50827784e-02 9.13333446e-02 6.28269836e-02 4.61404584e-02\n",
            " 1.59235522e-01 3.06889415e-03 4.37695682e-02 3.80956009e-03\n",
            " 3.22104618e-03 4.52235490e-02 3.19222361e-03 1.45113662e-01\n",
            " 1.77676827e-02 1.46113578e-02 6.75009191e-02 2.31172144e-02\n",
            " 8.04656968e-02 3.24610285e-02 5.07870056e-02 4.43879375e-03\n",
            " 3.62571888e-03 8.04807991e-04 3.05939205e-02 2.89518535e-02\n",
            " 4.69196290e-02 1.42700642e-01 2.45544240e-02 1.36925206e-02\n",
            " 8.70477594e-03 2.58479714e-02 4.83932644e-02 5.60298562e-03\n",
            " 2.10423302e-02 1.36660300e-02 3.81177291e-03 1.64869856e-02\n",
            " 1.18938863e-01 4.90079857e-02 3.27131189e-02 8.92986804e-02\n",
            " 1.94332059e-02 7.75204599e-02 5.21371551e-02 4.09670547e-02\n",
            " 8.03221017e-02 2.64717615e-03 2.86206156e-02 3.32452580e-02\n",
            " 2.86547821e-02 4.33993936e-02 6.96543381e-02 7.85507187e-02\n",
            " 2.22788863e-02 3.29403915e-02 5.15660364e-03 1.22862525e-01\n",
            " 1.80563256e-02 4.04693149e-02 1.19572252e-01 4.65225693e-33\n",
            " 9.34364051e-02 9.81896669e-02 1.33526623e-02 1.33378893e-01\n",
            " 6.34907559e-02 2.30510570e-02 2.08595954e-02 5.43785021e-02\n",
            " 4.22363579e-02 3.46001796e-02 6.22936301e-02 3.10508348e-02\n",
            " 6.72444552e-02 2.08065093e-01 1.07938908e-01 7.15727545e-03\n",
            " 3.89751941e-02 7.67109096e-02 1.27031609e-01 9.85981897e-02\n",
            " 7.25802407e-03 1.37382612e-01 8.37514549e-03 2.00807601e-02\n",
            " 1.44369453e-02 5.80837764e-02 7.44412094e-02 3.46211195e-02\n",
            " 1.58030018e-02 1.56887956e-02 1.15456469e-02 1.36544853e-02\n",
            " 8.98545142e-03 2.77904831e-02 1.71287268e-01 3.44887860e-02\n",
            " 4.87785712e-02 6.27616197e-02 1.39785871e-01 2.66412869e-02\n",
            " 6.60567805e-02 7.46004004e-03 7.55997002e-03 3.45316157e-02\n",
            " 1.37984037e-01 1.30498275e-01 1.19905919e-01 1.12320162e-01\n",
            " 8.44159573e-02 4.59884405e-02 2.05511555e-01 7.85055310e-02\n",
            " 5.81254922e-02 5.42630367e-02 6.61753491e-02 2.55317595e-02\n",
            " 3.83330733e-02 1.40471421e-02 3.32761891e-02 2.92572007e-02\n",
            " 2.46674679e-02 5.95732629e-02 3.39521058e-02 7.27981031e-02\n",
            " 1.18880123e-02 4.70974669e-03 5.20003922e-02 4.23382297e-02\n",
            " 2.90734246e-02 5.52240759e-02 9.61228311e-02 9.67061892e-03\n",
            " 8.44848603e-02 1.21994145e-01 4.34760675e-02 1.42749213e-02\n",
            " 4.31774482e-02 1.32574290e-01 1.11115374e-01 4.45738956e-02\n",
            " 1.04256347e-02 4.33968473e-03 1.05770990e-01 8.81870016e-02\n",
            " 3.43912765e-02 2.72952020e-04 2.85504702e-02 6.20746985e-03\n",
            " 1.98140666e-02 2.71345656e-02 5.35402633e-02 4.60694507e-02\n",
            " 1.16377734e-02 2.33373921e-02 3.61002535e-02 1.19888788e-33\n",
            " 2.37740576e-02 4.02806327e-02 1.95347890e-02 3.02954745e-02\n",
            " 1.41476663e-02 5.93988337e-02 2.30761580e-02 1.05019465e-01\n",
            " 8.51835981e-02 8.69740322e-02 2.07783636e-02 6.38334379e-02\n",
            " 4.48460504e-03 7.17511028e-03 1.48286596e-02 1.41234651e-01\n",
            " 1.24732584e-01 7.33631700e-02 5.92814758e-03 7.42158815e-02\n",
            " 3.74215096e-02 6.27225265e-03 1.29972562e-01 9.52178985e-03\n",
            " 2.38098036e-02 1.90273747e-02 6.46650642e-02 3.93967964e-02\n",
            " 6.09126240e-02 9.78229716e-02 9.27176178e-02 1.19753778e-01\n",
            " 8.37727189e-02 5.63628273e-03 8.18996653e-02 1.69213265e-01\n",
            " 1.00327745e-01 2.40878798e-02 3.20845768e-02 8.94587487e-02\n",
            " 7.63396174e-02 1.44843943e-02 9.90375597e-03 1.14052400e-01\n",
            " 3.11306790e-02 2.03887951e-02 3.02006863e-02 9.45571959e-02\n",
            " 4.38638255e-02 1.18667617e-01 1.55285120e-01 1.86945274e-02\n",
            " 5.61750233e-02 5.99652305e-02 2.07004800e-01 3.89427170e-02\n",
            " 7.26488307e-02 1.37286618e-01 1.05716556e-01 8.34218040e-03\n",
            " 1.79059617e-02 1.35821253e-02 3.33177298e-02 4.32620980e-02\n",
            " 5.31856455e-02 6.10104427e-02 1.49299189e-01 8.45521688e-02\n",
            " 7.89563507e-02 4.20731492e-02 1.03535242e-02 1.20286141e-02\n",
            " 1.24016367e-01 5.94416484e-02 2.02998966e-02 8.92265439e-02\n",
            " 4.98845056e-03 2.13588402e-03 1.51749216e-02 7.85146505e-02\n",
            " 9.51751620e-02 9.22203213e-02 1.03381164e-02 7.01434305e-03\n",
            " 9.36711729e-02 6.52312934e-02 6.38396442e-02 6.11742251e-02\n",
            " 1.36613362e-02 8.12024921e-02 7.45404363e-02 1.16930380e-01\n",
            " 9.50967595e-02 4.47889864e-02 1.02971531e-01 3.98648226e-10\n",
            " 1.45482719e-02 1.03955626e-01 5.30452058e-02 5.23234420e-02\n",
            " 7.19162896e-02 1.13778189e-02 1.07700124e-01 1.27838165e-01\n",
            " 5.03564626e-03 4.83622681e-03 1.30309671e-01 5.84932268e-02\n",
            " 3.85977440e-02 2.34296247e-02 1.34433098e-02 6.07982837e-02\n",
            " 9.78150219e-02 7.15768412e-02 4.45720181e-02 5.80944531e-02\n",
            " 9.35725272e-02 1.16296709e-02 9.26432833e-02 2.02212110e-02\n",
            " 1.29011065e-01 7.78784007e-02 5.51637448e-02 3.02897394e-02\n",
            " 2.68155709e-03 2.95311175e-02 1.72986984e-02 7.37895444e-03\n",
            " 8.90862346e-02 3.97312269e-02 2.64763646e-02 4.14260440e-02\n",
            " 3.97273898e-03 2.13825777e-02 1.03576139e-01 9.36538130e-02\n",
            " 4.22681160e-02 1.40714794e-01 1.27614737e-02 4.59262915e-02\n",
            " 9.38201845e-02 5.42695969e-02 6.01595268e-03 2.05431618e-02\n",
            " 2.36444920e-02 8.34661350e-03 3.92672531e-02 4.25032899e-03\n",
            " 2.26755552e-02 6.68038875e-02 4.35206406e-02 8.63071978e-02\n",
            " 7.34834224e-02 5.94844297e-03 1.95869774e-01 6.16650321e-02\n",
            " 3.76043729e-02 8.05566534e-02 9.04427376e-03 1.74919013e-02]\n"
          ]
        }
      ]
    },
    {
      "cell_type": "markdown",
      "source": [
        "Visualizing Sentence Embedding Distributions"
      ],
      "metadata": {
        "id": "IuYs92IUY1Ni"
      }
    },
    {
      "cell_type": "code",
      "source": [
        "import seaborn as sns\n",
        "\n",
        "# Visualize the distribution of the first dimension of premise embeddings\n",
        "sns.histplot(premise_embeddings[:, 0], kde=True, color='blue', label='Premise Embeddings')\n",
        "sns.histplot(hypothesis_embeddings[:, 0], kde=True, color='red', label='Hypothesis Embeddings')\n",
        "plt.legend()\n",
        "plt.title(\"Distribution of Embedding Dimensions\")\n",
        "plt.xlabel(\"Embedding Dimension 1 Value\")\n",
        "plt.ylabel(\"Frequency\")\n",
        "plt.show()"
      ],
      "metadata": {
        "colab": {
          "base_uri": "https://localhost:8080/",
          "height": 472
        },
        "id": "u1VyOAC8Yw2v",
        "outputId": "c6c5632e-3fdc-42e2-8e9f-c4743004cc03"
      },
      "execution_count": null,
      "outputs": [
        {
          "output_type": "display_data",
          "data": {
            "text/plain": [
              "<Figure size 640x480 with 1 Axes>"
            ],
            "image/png": "[encoded data removed]"
          },
          "metadata": {}
        }
      ]
    },
    {
      "cell_type": "code",
      "source": [],
      "metadata": {
        "id": "8JpDIWPLY4F-"
      },
      "execution_count": null,
      "outputs": []
    }
  ]
}